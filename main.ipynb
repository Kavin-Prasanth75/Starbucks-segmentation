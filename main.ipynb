{
 "cells": [
  {
   "cell_type": "markdown",
   "id": "f26f5cda",
   "metadata": {},
   "source": [
    "# Starbucks Segmentation"
   ]
  },
  {
   "cell_type": "markdown",
   "id": "c91ee773",
   "metadata": {},
   "source": [
    "**Table of Contents:**\n",
    "1. [Business Understanding](#business_understanding) \n",
    "2. [Data Understanding](#data_understanding)  \n",
    "3. [Data Preparation](#data_preparation)\n",
    "4. [Modeling & Evaluation](#modeling_evaluation)\n",
    "5. [Discussion & Conclusion](#discussion_conclusion)"
   ]
  },
  {
   "cell_type": "markdown",
   "id": "5c750fdb",
   "metadata": {},
   "source": [
    "<a id='business_understanding'></a>\n",
    "## 1. Business Understanding"
   ]
  },
  {
   "cell_type": "markdown",
   "id": "1a43b981",
   "metadata": {},
   "source": [
    "Starbucks Corporation is an American coffee company. Today, it operates more than 30,000 retail stores in 80 markets around the world.[[1]](https://www.starbucks.com/about-us/company-information/starbucks-company-profile) The company hence is a big player in a vigorously competitive industry. One approach to retain customers is its [Starbucks Reward Program](https://www.starbucks.com/rewards/). Members of the program receive promotional offers. The company then hopes to use the data collected on its customer behavior to create business value and make data-driven decisions on how it engages with its customers base."
   ]
  },
  {
   "cell_type": "markdown",
   "id": "5f584bcf",
   "metadata": {},
   "source": [
    "### 1.1. Project Overview\n",
    "The motivation behind this project is to propose a solution that helps the company in forming a better understanding of its customers base. In this project, an unsupervised learning technique will be used to segment customers and measure how each segment behave during different periods of the test. In particular, [K-Means](https://scikit-learn.org/stable/modules/generated/sklearn.cluster.KMeans.html) clustering will be used. The provided dataset of courses will go through different phases at first before being ready for modeling. Starting with cleaning and ending with the final dataset grouped by customer profiles with their data aggreated. \n",
    "\n",
    "Here's a high-level overview of the workflow followed in this project:\n",
    "1. Define the problem in-hands and measurement criterias.\n",
    "* Explore, understand, and clean the provided datasets.\n",
    "* Prepare final dataset grouped by customers.\n",
    "* Transform final dataset appropriately before fitting model.\n",
    "* Fit model on final dataset and predict cluster labels.\n",
    "* Explore distributions among formed clusters.\n",
    "* Discuss outcomes and make recommendations."
   ]
  },
  {
   "cell_type": "markdown",
   "id": "d2a59be5",
   "metadata": {},
   "source": [
    "### 1.2. Problem Statement\n",
    "\n",
    "The company currently promotes products to customers with no prior knowledge of their segments. It is possible hence to analyse the data to find patterns in customer behaviors. This helps the company in aiming and tailoring its marketing efforts and resources to consumers who exhibit similar characteristics and are considered most likely to opt in for business's offerings. This form of target marketing is important because it helps the company by maximizing revenue while maintaining promotional campaigns cost smartly low. To do this, an unsupervised learning technique will be used to cluster customers into groups that can be be investigated separately to better understand their qualities and engage them accordingly."
   ]
  },
  {
   "cell_type": "markdown",
   "id": "d98fd95a",
   "metadata": {},
   "source": [
    "### 1.3. Measurement Criterias\n",
    "\n",
    "When speaking about measurement criterias, two categories come to mind; _business metrics_ which assist in making decisions from a business point of view, and _technical metrics_ which assist in making assessment of the implementation of the algorithm used to cluster data.\n",
    "\n",
    "#### 1.3.1. Business Metrics\n",
    "\n",
    "All features will be investigated as much as possible, but there are two main themes used drive decisions made in this regard:\n",
    "\n",
    "`1` Distinguish the difference between how customers behave during non-promotional periods and how they behave when they are prompted to do so during promotionals periods. To measure this, [**R**ecency-**F**requency-**M**onetary Analysis](https://en.wikipedia.org/wiki/RFM_(market_research)) for examining customer value is used. In this model, recency, frequency and monetary values are assigned a score from one to five based on quantiles partition dividing range of values into equal-sized intervals. The RFM score is then obtained by taking the average of all three scores.\n",
    "\n",
    "$$\\textrm{RFM}_{score}={\\textrm{recency}_{score}+\\textrm{frequency}_{score}+\\textrm{monetary}_{score}\\over3}$$ \n",
    "\n",
    "`2` Identify which customers react preferably to which types of offers. To measure this, offer view and completion rates will be used where the cardinalities of corresponding sets are divided by cardinalities of relevant sets.\n",
    "\n",
    "$$\\textrm{view rate}={n(\\textrm{offer viewed})\\over{n(\\textrm{offer received})}}\\;\\;\\;\\;\\;\\;\\;\\;\\textrm{completion rate}={n(\\textrm{offer completed})\\over{n(\\textrm{offer viewed})}}$$\n",
    "\n",
    "#### 1.3.1. Technical Metrics\n",
    "\n",
    "For the algorithm chosen in this problem, K-Means, two appropriate methods will be used find the optimal number of clusters $k$ and to assess the model implementations; silhouette coefficient (SC) analysis and within-cluster Sum of Squared Errors (SSE) analysis.\n",
    "\n",
    "`1` Silhouette Coefficient (SC) analysis is a way to measure how close each point in a cluster is to the points in its neighboring clusters. Its a neat way to find out the optimum value for k during k-means clustering. Silhouette values lies in the range of [-1, 1]. A value of +1 indicates that the sample is far away from its neighboring cluster and very close to the cluster its assigned. Similarly, value of -1 indicates that the point is close to its neighboring cluster than to the cluster its assigned. And, a value of 0 means at the boundary of the distance between the two cluster. Value of +1 is ideal and -1 is least preferred. Hence, higher the value better is the cluster configuration. [[2]](https://kapilddatascience.wordpress.com/2015/11/10/using-silhouette-analysis-for-selecting-the-number-of-cluster-for-k-means-clustering/)\n",
    "\n",
    "Mathematically, for one data point $i$ where $a(i)$ represents the calculated mean distance of point $i$ with regard to to all other points in the cluster it was assigned and $b(i)$ represents the calculated mean distance of point $i$ with regard to to all points in its closest neighboring cluster, silhouette is defined:\n",
    "\n",
    "$$s(i)={b(i)-a(i)\\over\\textrm{max}\\{b(i),a(i))\\}}$$\n",
    "\n",
    "Therefore, it is clear from the above equation that $$-1\\leq{s(i)}\\leq1$$\n",
    "\n",
    "Then, for one value representing the silhouette score that used for assessment of clustering outcomes, where $\\bar{s}(k)$ represents the mean $s(i)$ over all data of the entire dataset for a specific number of clusters $k$, silhouette coefficient is defined:\n",
    "\n",
    "$$SC=\\textrm{max}_k\\{\\bar{s}(k)\\}$$\n",
    "\n",
    "`2` Sum of Squared Errors (SSE) analysis is a way to measure variability (dispersion) within a cluster by taking the sum of the squared differences between each data point and its cluster's mean, and therefore defined where $x_i$ is the $i$th data point and $n$ is the total number of data points: [[3]](https://hlab.stanford.edu/brian/error_sum_of_squares.html)\n",
    "\n",
    "$$SSE=\\sum_{i=1}^{n}x_i^2-{1\\over{n}}\\Bigg(\\sum_{i=1}^{n}x_i^2\\Bigg)^2$$\n",
    "\n",
    "SSE tends to decrease toward 0 as $k$-value increase because then each data point is its own cluster and there is no error between it and the mean of its cluster. The elbow method is then applied by plotting SSE for a range of $k$-values where where one should choose a $k$-value after which variability starts to have diminishing returns. [[4]](https://bl.ocks.org/rpgove/0060ff3b656618e9136b)"
   ]
  },
  {
   "cell_type": "markdown",
   "id": "1868eb3c",
   "metadata": {},
   "source": [
    "<a id='data_understanding'></a>\n",
    "## 2. Data Understanding"
   ]
  },
  {
   "cell_type": "markdown",
   "id": "c404b475",
   "metadata": {
    "vscode": {
     "languageId": "plaintext"
    }
   },
   "source": [
    "This data set contains simulated data that mimics customer behavior on the Starbucks Rewards mobile app. Once every few days, Starbucks sends out an offer to users of the mobile app. An offer can be merely an advertisement for a drink (informational) or an actual offer such as a discount or BOGO (buy one get one free). This data set is a simplified version of the real Starbucks app because the underlying simulator only has one product whereas Starbucks actually sells dozens of products.\n",
    "\n",
    "The data is contained in three files mentioned below in brief and will be discussed in details later.\n",
    "\n",
    "* `data/portfolio.json` - containing meta data about the promotions offered by the company.\n",
    "* `data/profile.json` - demographic data about members enrolled in the reward program.\n",
    "* `data/transcript.json` - records for transactions, offers received, offers viewed, and offers completed"
   ]
  },
  {
   "cell_type": "code",
   "execution_count": 1,
   "id": "b8f5b9b6",
   "metadata": {},
   "outputs": [],
   "source": [
    "import sys\n",
    "sys.path.insert(0, 'utilities.py')\n",
    "import utilities as util\n",
    "import json\n",
    "import time\n",
    "import warnings\n",
    "warnings.filterwarnings(\"ignore\")\n",
    "\n",
    "\n",
    "from IPython.display import display\n",
    "import pandas as pd\n",
    "import numpy as np \n",
    "import matplotlib\n",
    "\n",
    "import matplotlib.pyplot as plt\n",
    "import seaborn as sns\n",
    "import matplotlib.cm as cm\n",
    "\n",
    "from sklearn.cluster import KMeans\n",
    "from sklearn.decomposition import PCA\n",
    "from sklearn.preprocessing import PowerTransformer, MinMaxScaler\n",
    "from sklearn.metrics import silhouette_score, silhouette_samples\n",
    "from sklearn.mixture import GaussianMixture\n",
    "from sklearn.manifold import TSNE\n",
    "\n",
    "import matplotlib.cbook as cbook\n",
    "#% matplotlib inline\n",
    "plt.style.use('ggplot')\n",
    "\n",
    "pd.options.mode.chained_assignment = None  # default='warn'\n"
   ]
  },
  {
   "cell_type": "code",
   "execution_count": 2,
   "id": "d876980e",
   "metadata": {},
   "outputs": [],
   "source": [
    "# Read in the json files\n",
    "\n",
    "portfolio = pd.read_json('my_data1/portfolio.json', orient='records', lines=True)\n",
    "profile = pd.read_json('my_data1/profile.json', orient='records', lines=True)\n",
    "transcript = pd.read_json('my_data1/transcript.json', orient='records', lines=True)"
   ]
  },
  {
   "cell_type": "markdown",
   "id": "91b61709",
   "metadata": {},
   "source": [
    "### 2.1. `portfolio` Dataset"
   ]
  },
  {
   "cell_type": "markdown",
   "id": "e2e4b423",
   "metadata": {},
   "source": [
    "**Schema:**  \n",
    "0. `id` (str) - offer id\n",
    "* `offer_type` (str) - type of offer; bogo, discount, or informational\n",
    "* `difficulty` (int) - minimum required to be spent to complete an offer\n",
    "* `reward` (int) - reward given for completing an offer\n",
    "* `duration` (int) - time in days for an offer to be open\n",
    "* `channels` (list) - communication channels used to market an offer."
   ]
  },
  {
   "cell_type": "code",
   "execution_count": 3,
   "id": "1085f671",
   "metadata": {},
   "outputs": [
    {
     "data": {
      "text/html": [
       "<div>\n",
       "<style scoped>\n",
       "    .dataframe tbody tr th:only-of-type {\n",
       "        vertical-align: middle;\n",
       "    }\n",
       "\n",
       "    .dataframe tbody tr th {\n",
       "        vertical-align: top;\n",
       "    }\n",
       "\n",
       "    .dataframe thead th {\n",
       "        text-align: right;\n",
       "    }\n",
       "</style>\n",
       "<table border=\"1\" class=\"dataframe\">\n",
       "  <thead>\n",
       "    <tr style=\"text-align: right;\">\n",
       "      <th></th>\n",
       "      <th>reward</th>\n",
       "      <th>channels</th>\n",
       "      <th>difficulty</th>\n",
       "      <th>duration</th>\n",
       "      <th>offer_type</th>\n",
       "      <th>id</th>\n",
       "    </tr>\n",
       "  </thead>\n",
       "  <tbody>\n",
       "    <tr>\n",
       "      <th>0</th>\n",
       "      <td>10</td>\n",
       "      <td>[email, mobile, social]</td>\n",
       "      <td>10</td>\n",
       "      <td>7</td>\n",
       "      <td>bogo</td>\n",
       "      <td>ae264e3637204a6fb9bb56bc8210ddfd</td>\n",
       "    </tr>\n",
       "    <tr>\n",
       "      <th>1</th>\n",
       "      <td>10</td>\n",
       "      <td>[web, email, mobile, social]</td>\n",
       "      <td>10</td>\n",
       "      <td>5</td>\n",
       "      <td>bogo</td>\n",
       "      <td>4d5c57ea9a6940dd891ad53e9dbe8da0</td>\n",
       "    </tr>\n",
       "    <tr>\n",
       "      <th>2</th>\n",
       "      <td>0</td>\n",
       "      <td>[web, email, mobile]</td>\n",
       "      <td>0</td>\n",
       "      <td>4</td>\n",
       "      <td>informational</td>\n",
       "      <td>3f207df678b143eea3cee63160fa8bed</td>\n",
       "    </tr>\n",
       "    <tr>\n",
       "      <th>3</th>\n",
       "      <td>5</td>\n",
       "      <td>[web, email, mobile]</td>\n",
       "      <td>5</td>\n",
       "      <td>7</td>\n",
       "      <td>bogo</td>\n",
       "      <td>9b98b8c7a33c4b65b9aebfe6a799e6d9</td>\n",
       "    </tr>\n",
       "    <tr>\n",
       "      <th>4</th>\n",
       "      <td>5</td>\n",
       "      <td>[web, email]</td>\n",
       "      <td>20</td>\n",
       "      <td>10</td>\n",
       "      <td>discount</td>\n",
       "      <td>0b1e1539f2cc45b7b9fa7c272da2e1d7</td>\n",
       "    </tr>\n",
       "  </tbody>\n",
       "</table>\n",
       "</div>"
      ],
      "text/plain": [
       "   reward                      channels  difficulty  duration     offer_type  \\\n",
       "0      10       [email, mobile, social]          10         7           bogo   \n",
       "1      10  [web, email, mobile, social]          10         5           bogo   \n",
       "2       0          [web, email, mobile]           0         4  informational   \n",
       "3       5          [web, email, mobile]           5         7           bogo   \n",
       "4       5                  [web, email]          20        10       discount   \n",
       "\n",
       "                                 id  \n",
       "0  ae264e3637204a6fb9bb56bc8210ddfd  \n",
       "1  4d5c57ea9a6940dd891ad53e9dbe8da0  \n",
       "2  3f207df678b143eea3cee63160fa8bed  \n",
       "3  9b98b8c7a33c4b65b9aebfe6a799e6d9  \n",
       "4  0b1e1539f2cc45b7b9fa7c272da2e1d7  "
      ]
     },
     "execution_count": 3,
     "metadata": {},
     "output_type": "execute_result"
    }
   ],
   "source": [
    "portfolio.head()"
   ]
  },
  {
   "cell_type": "code",
   "execution_count": 4,
   "id": "47f3f3d6",
   "metadata": {},
   "outputs": [
    {
     "name": "stdout",
     "output_type": "stream",
     "text": [
      "<class 'pandas.core.frame.DataFrame'>\n",
      "RangeIndex: 10 entries, 0 to 9\n",
      "Data columns (total 6 columns):\n",
      " #   Column      Non-Null Count  Dtype \n",
      "---  ------      --------------  ----- \n",
      " 0   reward      10 non-null     int64 \n",
      " 1   channels    10 non-null     object\n",
      " 2   difficulty  10 non-null     int64 \n",
      " 3   duration    10 non-null     int64 \n",
      " 4   offer_type  10 non-null     object\n",
      " 5   id          10 non-null     object\n",
      "dtypes: int64(3), object(3)\n",
      "memory usage: 612.0+ bytes\n"
     ]
    }
   ],
   "source": [
    "portfolio.info()"
   ]
  },
  {
   "cell_type": "code",
   "execution_count": 5,
   "id": "bc145458",
   "metadata": {},
   "outputs": [
    {
     "name": "stdout",
     "output_type": "stream",
     "text": [
      "    column  count  pct\n",
      "    reward      0  0.0\n",
      "  channels      0  0.0\n",
      "difficulty      0  0.0\n",
      "  duration      0  0.0\n",
      "offer_type      0  0.0\n",
      "        id      0  0.0\n"
     ]
    }
   ],
   "source": [
    "util.compute_null_pct(portfolio)"
   ]
  },
  {
   "cell_type": "markdown",
   "id": "94cd0117",
   "metadata": {},
   "source": [
    "**Conclusion:**\n",
    "\n",
    "This dataset contains meta data about promotions offered by the company. Every offer has a minimum required to be spent by a customer to complete an offer represented by `difficulty` and therfore be eligible for the `reward`. Also, every offer has a validity period represented by `duration` after which it expires.\n",
    "\n",
    "The above is true for offers with offer type \"bogo\" and \"discount\". However, for \"informational\" offers while they have a `duration`, their `difficulty` and `reward` are zero since these offers are merely providing information about a product. This means they are not tracked for completion in `transcript`.\n",
    "\n",
    "There are 10 rows (representing 10 types of offers) and 6 columns with no missing or null values. Very little cleaning will be performed on this dataset."
   ]
  },
  {
   "cell_type": "markdown",
   "id": "826a64a8",
   "metadata": {},
   "source": [
    "### 2.2. `profile` Dataset"
   ]
  },
  {
   "cell_type": "markdown",
   "id": "3678bbc8",
   "metadata": {},
   "source": [
    "**Schema:**\n",
    "0. `age` (int) - age of the customer \n",
    "* `became_member_on` (int) - date when customer created an app account\n",
    "* `gender` (str) - gender of the customer; M, F, or O.\n",
    "* `id` (str) - customer id\n",
    "* `income` (float) - income of customer"
   ]
  },
  {
   "cell_type": "code",
   "execution_count": 6,
   "id": "3d4b2e8d",
   "metadata": {},
   "outputs": [
    {
     "data": {
      "text/html": [
       "<div>\n",
       "<style scoped>\n",
       "    .dataframe tbody tr th:only-of-type {\n",
       "        vertical-align: middle;\n",
       "    }\n",
       "\n",
       "    .dataframe tbody tr th {\n",
       "        vertical-align: top;\n",
       "    }\n",
       "\n",
       "    .dataframe thead th {\n",
       "        text-align: right;\n",
       "    }\n",
       "</style>\n",
       "<table border=\"1\" class=\"dataframe\">\n",
       "  <thead>\n",
       "    <tr style=\"text-align: right;\">\n",
       "      <th></th>\n",
       "      <th>gender</th>\n",
       "      <th>age</th>\n",
       "      <th>id</th>\n",
       "      <th>became_member_on</th>\n",
       "      <th>income</th>\n",
       "    </tr>\n",
       "  </thead>\n",
       "  <tbody>\n",
       "    <tr>\n",
       "      <th>0</th>\n",
       "      <td>None</td>\n",
       "      <td>118</td>\n",
       "      <td>68be06ca386d4c31939f3a4f0e3dd783</td>\n",
       "      <td>20170212</td>\n",
       "      <td>NaN</td>\n",
       "    </tr>\n",
       "    <tr>\n",
       "      <th>1</th>\n",
       "      <td>F</td>\n",
       "      <td>55</td>\n",
       "      <td>0610b486422d4921ae7d2bf64640c50b</td>\n",
       "      <td>20170715</td>\n",
       "      <td>112000.0</td>\n",
       "    </tr>\n",
       "    <tr>\n",
       "      <th>2</th>\n",
       "      <td>None</td>\n",
       "      <td>118</td>\n",
       "      <td>38fe809add3b4fcf9315a9694bb96ff5</td>\n",
       "      <td>20180712</td>\n",
       "      <td>NaN</td>\n",
       "    </tr>\n",
       "    <tr>\n",
       "      <th>3</th>\n",
       "      <td>F</td>\n",
       "      <td>75</td>\n",
       "      <td>78afa995795e4d85b5d9ceeca43f5fef</td>\n",
       "      <td>20170509</td>\n",
       "      <td>100000.0</td>\n",
       "    </tr>\n",
       "    <tr>\n",
       "      <th>4</th>\n",
       "      <td>None</td>\n",
       "      <td>118</td>\n",
       "      <td>a03223e636434f42ac4c3df47e8bac43</td>\n",
       "      <td>20170804</td>\n",
       "      <td>NaN</td>\n",
       "    </tr>\n",
       "  </tbody>\n",
       "</table>\n",
       "</div>"
      ],
      "text/plain": [
       "  gender  age                                id  became_member_on    income\n",
       "0   None  118  68be06ca386d4c31939f3a4f0e3dd783          20170212       NaN\n",
       "1      F   55  0610b486422d4921ae7d2bf64640c50b          20170715  112000.0\n",
       "2   None  118  38fe809add3b4fcf9315a9694bb96ff5          20180712       NaN\n",
       "3      F   75  78afa995795e4d85b5d9ceeca43f5fef          20170509  100000.0\n",
       "4   None  118  a03223e636434f42ac4c3df47e8bac43          20170804       NaN"
      ]
     },
     "execution_count": 6,
     "metadata": {},
     "output_type": "execute_result"
    }
   ],
   "source": [
    "profile.head()"
   ]
  },
  {
   "cell_type": "code",
   "execution_count": 7,
   "id": "192ecf13",
   "metadata": {},
   "outputs": [
    {
     "name": "stdout",
     "output_type": "stream",
     "text": [
      "<class 'pandas.core.frame.DataFrame'>\n",
      "RangeIndex: 17000 entries, 0 to 16999\n",
      "Data columns (total 5 columns):\n",
      " #   Column            Non-Null Count  Dtype  \n",
      "---  ------            --------------  -----  \n",
      " 0   gender            14825 non-null  object \n",
      " 1   age               17000 non-null  int64  \n",
      " 2   id                17000 non-null  object \n",
      " 3   became_member_on  17000 non-null  int64  \n",
      " 4   income            14825 non-null  float64\n",
      "dtypes: float64(1), int64(2), object(2)\n",
      "memory usage: 664.2+ KB\n"
     ]
    }
   ],
   "source": [
    "profile.info()"
   ]
  },
  {
   "cell_type": "code",
   "execution_count": 8,
   "id": "dfc37baa",
   "metadata": {},
   "outputs": [
    {
     "name": "stdout",
     "output_type": "stream",
     "text": [
      "          column  count   pct\n",
      "          gender   2175 12.79\n",
      "             age      0  0.00\n",
      "              id      0  0.00\n",
      "became_member_on      0  0.00\n",
      "          income   2175 12.79\n"
     ]
    }
   ],
   "source": [
    "util.compute_null_pct(profile)"
   ]
  },
  {
   "cell_type": "code",
   "execution_count": 9,
   "id": "14f01697",
   "metadata": {},
   "outputs": [
    {
     "data": {
      "text/html": [
       "<div>\n",
       "<style scoped>\n",
       "    .dataframe tbody tr th:only-of-type {\n",
       "        vertical-align: middle;\n",
       "    }\n",
       "\n",
       "    .dataframe tbody tr th {\n",
       "        vertical-align: top;\n",
       "    }\n",
       "\n",
       "    .dataframe thead th {\n",
       "        text-align: right;\n",
       "    }\n",
       "</style>\n",
       "<table border=\"1\" class=\"dataframe\">\n",
       "  <thead>\n",
       "    <tr style=\"text-align: right;\">\n",
       "      <th></th>\n",
       "      <th>gender</th>\n",
       "      <th>age</th>\n",
       "      <th>id</th>\n",
       "      <th>became_member_on</th>\n",
       "      <th>income</th>\n",
       "    </tr>\n",
       "  </thead>\n",
       "  <tbody>\n",
       "    <tr>\n",
       "      <th>0</th>\n",
       "      <td>None</td>\n",
       "      <td>118</td>\n",
       "      <td>68be06ca386d4c31939f3a4f0e3dd783</td>\n",
       "      <td>20170212</td>\n",
       "      <td>NaN</td>\n",
       "    </tr>\n",
       "    <tr>\n",
       "      <th>2</th>\n",
       "      <td>None</td>\n",
       "      <td>118</td>\n",
       "      <td>38fe809add3b4fcf9315a9694bb96ff5</td>\n",
       "      <td>20180712</td>\n",
       "      <td>NaN</td>\n",
       "    </tr>\n",
       "    <tr>\n",
       "      <th>4</th>\n",
       "      <td>None</td>\n",
       "      <td>118</td>\n",
       "      <td>a03223e636434f42ac4c3df47e8bac43</td>\n",
       "      <td>20170804</td>\n",
       "      <td>NaN</td>\n",
       "    </tr>\n",
       "    <tr>\n",
       "      <th>6</th>\n",
       "      <td>None</td>\n",
       "      <td>118</td>\n",
       "      <td>8ec6ce2a7e7949b1bf142def7d0e0586</td>\n",
       "      <td>20170925</td>\n",
       "      <td>NaN</td>\n",
       "    </tr>\n",
       "    <tr>\n",
       "      <th>7</th>\n",
       "      <td>None</td>\n",
       "      <td>118</td>\n",
       "      <td>68617ca6246f4fbc85e91a2a49552598</td>\n",
       "      <td>20171002</td>\n",
       "      <td>NaN</td>\n",
       "    </tr>\n",
       "    <tr>\n",
       "      <th>9</th>\n",
       "      <td>None</td>\n",
       "      <td>118</td>\n",
       "      <td>8974fc5686fe429db53ddde067b88302</td>\n",
       "      <td>20161122</td>\n",
       "      <td>NaN</td>\n",
       "    </tr>\n",
       "    <tr>\n",
       "      <th>10</th>\n",
       "      <td>None</td>\n",
       "      <td>118</td>\n",
       "      <td>c4863c7985cf408faee930f111475da3</td>\n",
       "      <td>20170824</td>\n",
       "      <td>NaN</td>\n",
       "    </tr>\n",
       "    <tr>\n",
       "      <th>11</th>\n",
       "      <td>None</td>\n",
       "      <td>118</td>\n",
       "      <td>148adfcaa27d485b82f323aaaad036bd</td>\n",
       "      <td>20150919</td>\n",
       "      <td>NaN</td>\n",
       "    </tr>\n",
       "    <tr>\n",
       "      <th>17</th>\n",
       "      <td>None</td>\n",
       "      <td>118</td>\n",
       "      <td>744d603ef08c4f33af5a61c8c7628d1c</td>\n",
       "      <td>20170801</td>\n",
       "      <td>NaN</td>\n",
       "    </tr>\n",
       "    <tr>\n",
       "      <th>23</th>\n",
       "      <td>None</td>\n",
       "      <td>118</td>\n",
       "      <td>2b826eba31074a059d63b0ae8f50b7d5</td>\n",
       "      <td>20170907</td>\n",
       "      <td>NaN</td>\n",
       "    </tr>\n",
       "  </tbody>\n",
       "</table>\n",
       "</div>"
      ],
      "text/plain": [
       "   gender  age                                id  became_member_on  income\n",
       "0    None  118  68be06ca386d4c31939f3a4f0e3dd783          20170212     NaN\n",
       "2    None  118  38fe809add3b4fcf9315a9694bb96ff5          20180712     NaN\n",
       "4    None  118  a03223e636434f42ac4c3df47e8bac43          20170804     NaN\n",
       "6    None  118  8ec6ce2a7e7949b1bf142def7d0e0586          20170925     NaN\n",
       "7    None  118  68617ca6246f4fbc85e91a2a49552598          20171002     NaN\n",
       "9    None  118  8974fc5686fe429db53ddde067b88302          20161122     NaN\n",
       "10   None  118  c4863c7985cf408faee930f111475da3          20170824     NaN\n",
       "11   None  118  148adfcaa27d485b82f323aaaad036bd          20150919     NaN\n",
       "17   None  118  744d603ef08c4f33af5a61c8c7628d1c          20170801     NaN\n",
       "23   None  118  2b826eba31074a059d63b0ae8f50b7d5          20170907     NaN"
      ]
     },
     "execution_count": 9,
     "metadata": {},
     "output_type": "execute_result"
    }
   ],
   "source": [
    "profile[profile.gender.isnull()].head(10)"
   ]
  },
  {
   "cell_type": "code",
   "execution_count": 10,
   "id": "216cbcdc",
   "metadata": {},
   "outputs": [
    {
     "name": "stdout",
     "output_type": "stream",
     "text": [
      "          column  count   pct\n",
      "          gender   2175 100.0\n",
      "             age      0   0.0\n",
      "              id      0   0.0\n",
      "became_member_on      0   0.0\n",
      "          income   2175 100.0\n"
     ]
    }
   ],
   "source": [
    "util.compute_null_pct(profile[profile.gender.isnull() & profile.income.isnull()])"
   ]
  },
  {
   "cell_type": "code",
   "execution_count": 11,
   "id": "738bc83a",
   "metadata": {},
   "outputs": [
    {
     "name": "stdout",
     "output_type": "stream",
     "text": [
      "          column  count   pct\n",
      "          gender   2175 100.0\n",
      "             age      0   0.0\n",
      "              id      0   0.0\n",
      "became_member_on      0   0.0\n",
      "          income   2175 100.0\n"
     ]
    }
   ],
   "source": [
    "util.compute_null_pct(profile[profile.age == 118])"
   ]
  },
  {
   "cell_type": "code",
   "execution_count": 12,
   "id": "4843f46c",
   "metadata": {},
   "outputs": [
    {
     "data": {
      "text/plain": [
       "np.int64(2175)"
      ]
     },
     "execution_count": 12,
     "metadata": {},
     "output_type": "execute_result"
    }
   ],
   "source": [
    "count_118 = (profile['age'] == 118).sum()\n",
    "count_118"
   ]
  },
  {
   "cell_type": "markdown",
   "id": "f45604e3",
   "metadata": {},
   "source": [
    "**So, from this we can conclude that, whenever the age is 118 both income and gender are missing**"
   ]
  },
  {
   "cell_type": "code",
   "execution_count": 13,
   "id": "8a1e94b3",
   "metadata": {},
   "outputs": [
    {
     "data": {
      "image/png": "[encoded data removed]",
      "text/plain": [
       "<Figure size 640x480 with 1 Axes>"
      ]
     },
     "metadata": {},
     "output_type": "display_data"
    }
   ],
   "source": [
    "plt.hist(profile.age);\n",
    "plt.title('Age Distribution')\n",
    "\n",
    "plt.xlabel('Age')\n",
    "plt.ylabel('Count')\n",
    "plt.show()"
   ]
  },
  {
   "cell_type": "code",
   "execution_count": 14,
   "id": "388bc7ae",
   "metadata": {},
   "outputs": [
    {
     "data": {
      "image/png": "[encoded data removed]",
      "text/plain": [
       "<Figure size 640x480 with 1 Axes>"
      ]
     },
     "metadata": {},
     "output_type": "display_data"
    }
   ],
   "source": [
    "plt.hist(profile.income);\n",
    "plt.title('Income Distribution')\n",
    "plt.xlabel('Income')\n",
    "plt.ylabel('Count')\n",
    "plt.show()"
   ]
  },
  {
   "cell_type": "code",
   "execution_count": 15,
   "id": "d9af15db",
   "metadata": {},
   "outputs": [
    {
     "data": {
      "text/plain": [
       "gender\n",
       "M    8484\n",
       "F    6129\n",
       "O     212\n",
       "Name: count, dtype: int64"
      ]
     },
     "execution_count": 15,
     "metadata": {},
     "output_type": "execute_result"
    }
   ],
   "source": [
    "profile.gender.value_counts()"
   ]
  },
  {
   "cell_type": "markdown",
   "id": "dca05c08",
   "metadata": {},
   "source": [
    "#### Conclusion:\n",
    "\n",
    "This dataset contains demographic data about members enrolled in the reward program with self-explanatory features. There are 17,000 rows (representing 17,000 customer profiles) and 5 columns. There are 2175 rows with missing values, incosistent data and clear outliers. Aside from that, very little cleaning is required on this dataset."
   ]
  },
  {
   "cell_type": "markdown",
   "id": "2927e3c5",
   "metadata": {},
   "source": [
    "### 2.2. `transcript` Dataset"
   ]
  },
  {
   "cell_type": "markdown",
   "id": "2ea01311",
   "metadata": {},
   "source": [
    "**Schema:**\n",
    "* `event` (str) - record description; transaction, offer received, offer viewed, or offer completed.\n",
    "* `person` (str) - customer id.\n",
    "* `time` (int) - time in hours since start of test. The data begins at time t=0.\n",
    "* `value` - (dict) - either an offer id or transaction amount depending on the record."
   ]
  },
  {
   "cell_type": "code",
   "execution_count": 16,
   "id": "0e7fcb0c",
   "metadata": {},
   "outputs": [
    {
     "data": {
      "text/html": [
       "<div>\n",
       "<style scoped>\n",
       "    .dataframe tbody tr th:only-of-type {\n",
       "        vertical-align: middle;\n",
       "    }\n",
       "\n",
       "    .dataframe tbody tr th {\n",
       "        vertical-align: top;\n",
       "    }\n",
       "\n",
       "    .dataframe thead th {\n",
       "        text-align: right;\n",
       "    }\n",
       "</style>\n",
       "<table border=\"1\" class=\"dataframe\">\n",
       "  <thead>\n",
       "    <tr style=\"text-align: right;\">\n",
       "      <th></th>\n",
       "      <th>person</th>\n",
       "      <th>event</th>\n",
       "      <th>value</th>\n",
       "      <th>time</th>\n",
       "    </tr>\n",
       "  </thead>\n",
       "  <tbody>\n",
       "    <tr>\n",
       "      <th>306529</th>\n",
       "      <td>b3a1272bc9904337b331bf348c3e8c17</td>\n",
       "      <td>transaction</td>\n",
       "      <td>{'amount': 1.5899999999999999}</td>\n",
       "      <td>714</td>\n",
       "    </tr>\n",
       "    <tr>\n",
       "      <th>306530</th>\n",
       "      <td>68213b08d99a4ae1b0dcb72aebd9aa35</td>\n",
       "      <td>transaction</td>\n",
       "      <td>{'amount': 9.53}</td>\n",
       "      <td>714</td>\n",
       "    </tr>\n",
       "    <tr>\n",
       "      <th>306531</th>\n",
       "      <td>a00058cf10334a308c68e7631c529907</td>\n",
       "      <td>transaction</td>\n",
       "      <td>{'amount': 3.61}</td>\n",
       "      <td>714</td>\n",
       "    </tr>\n",
       "    <tr>\n",
       "      <th>306532</th>\n",
       "      <td>76ddbd6576844afe811f1a3c0fbb5bec</td>\n",
       "      <td>transaction</td>\n",
       "      <td>{'amount': 3.5300000000000002}</td>\n",
       "      <td>714</td>\n",
       "    </tr>\n",
       "    <tr>\n",
       "      <th>306533</th>\n",
       "      <td>c02b10e8752c4d8e9b73f918558531f7</td>\n",
       "      <td>transaction</td>\n",
       "      <td>{'amount': 4.05}</td>\n",
       "      <td>714</td>\n",
       "    </tr>\n",
       "  </tbody>\n",
       "</table>\n",
       "</div>"
      ],
      "text/plain": [
       "                                  person        event  \\\n",
       "306529  b3a1272bc9904337b331bf348c3e8c17  transaction   \n",
       "306530  68213b08d99a4ae1b0dcb72aebd9aa35  transaction   \n",
       "306531  a00058cf10334a308c68e7631c529907  transaction   \n",
       "306532  76ddbd6576844afe811f1a3c0fbb5bec  transaction   \n",
       "306533  c02b10e8752c4d8e9b73f918558531f7  transaction   \n",
       "\n",
       "                                 value  time  \n",
       "306529  {'amount': 1.5899999999999999}   714  \n",
       "306530                {'amount': 9.53}   714  \n",
       "306531                {'amount': 3.61}   714  \n",
       "306532  {'amount': 3.5300000000000002}   714  \n",
       "306533                {'amount': 4.05}   714  "
      ]
     },
     "execution_count": 16,
     "metadata": {},
     "output_type": "execute_result"
    }
   ],
   "source": [
    "transcript.tail()"
   ]
  },
  {
   "cell_type": "code",
   "execution_count": 17,
   "id": "e259a501",
   "metadata": {},
   "outputs": [
    {
     "name": "stdout",
     "output_type": "stream",
     "text": [
      "<class 'pandas.core.frame.DataFrame'>\n",
      "RangeIndex: 306534 entries, 0 to 306533\n",
      "Data columns (total 4 columns):\n",
      " #   Column  Non-Null Count   Dtype \n",
      "---  ------  --------------   ----- \n",
      " 0   person  306534 non-null  object\n",
      " 1   event   306534 non-null  object\n",
      " 2   value   306534 non-null  object\n",
      " 3   time    306534 non-null  int64 \n",
      "dtypes: int64(1), object(3)\n",
      "memory usage: 9.4+ MB\n"
     ]
    }
   ],
   "source": [
    "transcript.info()"
   ]
  },
  {
   "cell_type": "code",
   "execution_count": 18,
   "id": "18d5972a",
   "metadata": {},
   "outputs": [
    {
     "data": {
      "text/plain": [
       "event\n",
       "transaction        138953\n",
       "offer received      76277\n",
       "offer viewed        57725\n",
       "offer completed     33579\n",
       "Name: count, dtype: int64"
      ]
     },
     "execution_count": 18,
     "metadata": {},
     "output_type": "execute_result"
    }
   ],
   "source": [
    "transcript.event.value_counts()"
   ]
  },
  {
   "cell_type": "code",
   "execution_count": 19,
   "id": "5da774c4",
   "metadata": {},
   "outputs": [
    {
     "data": {
      "text/plain": [
       "12654    {'amount': 0.8300000000000001}\n",
       "12657                 {'amount': 34.56}\n",
       "12659                 {'amount': 13.23}\n",
       "12670                 {'amount': 19.51}\n",
       "12671                 {'amount': 18.97}\n",
       "Name: value, dtype: object"
      ]
     },
     "execution_count": 19,
     "metadata": {},
     "output_type": "execute_result"
    }
   ],
   "source": [
    "transcript.loc[transcript.event == 'transaction'].value.head()"
   ]
  },
  {
   "cell_type": "code",
   "execution_count": 20,
   "id": "78d07154",
   "metadata": {},
   "outputs": [
    {
     "data": {
      "text/plain": [
       "0    {'offer id': '9b98b8c7a33c4b65b9aebfe6a799e6d9'}\n",
       "1    {'offer id': '0b1e1539f2cc45b7b9fa7c272da2e1d7'}\n",
       "2    {'offer id': '2906b810c7d4411798c6938adc9daaa5'}\n",
       "3    {'offer id': 'fafdcd668e3743c1bb461111dcafc2a4'}\n",
       "4    {'offer id': '4d5c57ea9a6940dd891ad53e9dbe8da0'}\n",
       "Name: value, dtype: object"
      ]
     },
     "execution_count": 20,
     "metadata": {},
     "output_type": "execute_result"
    }
   ],
   "source": [
    "transcript.loc[transcript.event == 'offer received'].value.head()\n"
   ]
  },
  {
   "cell_type": "code",
   "execution_count": 21,
   "id": "96543242",
   "metadata": {},
   "outputs": [
    {
     "data": {
      "text/plain": [
       "12650    {'offer id': 'f19421c1d4aa40978ebb69ca19b0e20d'}\n",
       "12651    {'offer id': '5a8bc65990b245e5a138643cd4eb9837'}\n",
       "12652    {'offer id': '4d5c57ea9a6940dd891ad53e9dbe8da0'}\n",
       "12653    {'offer id': 'ae264e3637204a6fb9bb56bc8210ddfd'}\n",
       "12655    {'offer id': '5a8bc65990b245e5a138643cd4eb9837'}\n",
       "Name: value, dtype: object"
      ]
     },
     "execution_count": 21,
     "metadata": {},
     "output_type": "execute_result"
    }
   ],
   "source": [
    "transcript.loc[transcript.event == 'offer viewed'].value.head()\n"
   ]
  },
  {
   "cell_type": "code",
   "execution_count": 22,
   "id": "9cf73766",
   "metadata": {},
   "outputs": [
    {
     "data": {
      "text/plain": [
       "12658    {'offer_id': '2906b810c7d4411798c6938adc9daaa5...\n",
       "12672    {'offer_id': 'fafdcd668e3743c1bb461111dcafc2a4...\n",
       "12679    {'offer_id': '9b98b8c7a33c4b65b9aebfe6a799e6d9...\n",
       "12692    {'offer_id': 'ae264e3637204a6fb9bb56bc8210ddfd...\n",
       "12697    {'offer_id': '4d5c57ea9a6940dd891ad53e9dbe8da0...\n",
       "Name: value, dtype: object"
      ]
     },
     "execution_count": 22,
     "metadata": {},
     "output_type": "execute_result"
    }
   ],
   "source": [
    "transcript.loc[transcript.event == 'offer completed'].value.head()\n"
   ]
  },
  {
   "cell_type": "code",
   "execution_count": 23,
   "id": "c20a5aa8",
   "metadata": {},
   "outputs": [
    {
     "data": {
      "text/html": [
       "<div>\n",
       "<style scoped>\n",
       "    .dataframe tbody tr th:only-of-type {\n",
       "        vertical-align: middle;\n",
       "    }\n",
       "\n",
       "    .dataframe tbody tr th {\n",
       "        vertical-align: top;\n",
       "    }\n",
       "\n",
       "    .dataframe thead th {\n",
       "        text-align: right;\n",
       "    }\n",
       "</style>\n",
       "<table border=\"1\" class=\"dataframe\">\n",
       "  <thead>\n",
       "    <tr style=\"text-align: right;\">\n",
       "      <th></th>\n",
       "      <th>person</th>\n",
       "      <th>event</th>\n",
       "      <th>value</th>\n",
       "      <th>time</th>\n",
       "    </tr>\n",
       "  </thead>\n",
       "  <tbody>\n",
       "    <tr>\n",
       "      <th>12623</th>\n",
       "      <td>68213b08d99a4ae1b0dcb72aebd9aa35</td>\n",
       "      <td>offer received</td>\n",
       "      <td>{'offer id': 'f19421c1d4aa40978ebb69ca19b0e20d'}</td>\n",
       "      <td>0</td>\n",
       "    </tr>\n",
       "    <tr>\n",
       "      <th>29490</th>\n",
       "      <td>68213b08d99a4ae1b0dcb72aebd9aa35</td>\n",
       "      <td>offer viewed</td>\n",
       "      <td>{'offer id': 'f19421c1d4aa40978ebb69ca19b0e20d'}</td>\n",
       "      <td>42</td>\n",
       "    </tr>\n",
       "    <tr>\n",
       "      <th>62930</th>\n",
       "      <td>68213b08d99a4ae1b0dcb72aebd9aa35</td>\n",
       "      <td>offer received</td>\n",
       "      <td>{'offer id': '3f207df678b143eea3cee63160fa8bed'}</td>\n",
       "      <td>168</td>\n",
       "    </tr>\n",
       "    <tr>\n",
       "      <th>163344</th>\n",
       "      <td>68213b08d99a4ae1b0dcb72aebd9aa35</td>\n",
       "      <td>offer received</td>\n",
       "      <td>{'offer id': 'ae264e3637204a6fb9bb56bc8210ddfd'}</td>\n",
       "      <td>408</td>\n",
       "    </tr>\n",
       "    <tr>\n",
       "      <th>167618</th>\n",
       "      <td>68213b08d99a4ae1b0dcb72aebd9aa35</td>\n",
       "      <td>offer viewed</td>\n",
       "      <td>{'offer id': 'ae264e3637204a6fb9bb56bc8210ddfd'}</td>\n",
       "      <td>408</td>\n",
       "    </tr>\n",
       "    <tr>\n",
       "      <th>200082</th>\n",
       "      <td>68213b08d99a4ae1b0dcb72aebd9aa35</td>\n",
       "      <td>transaction</td>\n",
       "      <td>{'amount': 0.48}</td>\n",
       "      <td>492</td>\n",
       "    </tr>\n",
       "    <tr>\n",
       "      <th>209759</th>\n",
       "      <td>68213b08d99a4ae1b0dcb72aebd9aa35</td>\n",
       "      <td>offer received</td>\n",
       "      <td>{'offer id': 'f19421c1d4aa40978ebb69ca19b0e20d'}</td>\n",
       "      <td>504</td>\n",
       "    </tr>\n",
       "    <tr>\n",
       "      <th>230408</th>\n",
       "      <td>68213b08d99a4ae1b0dcb72aebd9aa35</td>\n",
       "      <td>offer viewed</td>\n",
       "      <td>{'offer id': 'f19421c1d4aa40978ebb69ca19b0e20d'}</td>\n",
       "      <td>528</td>\n",
       "    </tr>\n",
       "    <tr>\n",
       "      <th>254874</th>\n",
       "      <td>68213b08d99a4ae1b0dcb72aebd9aa35</td>\n",
       "      <td>offer received</td>\n",
       "      <td>{'offer id': '2906b810c7d4411798c6938adc9daaa5'}</td>\n",
       "      <td>576</td>\n",
       "    </tr>\n",
       "    <tr>\n",
       "      <th>306530</th>\n",
       "      <td>68213b08d99a4ae1b0dcb72aebd9aa35</td>\n",
       "      <td>transaction</td>\n",
       "      <td>{'amount': 9.53}</td>\n",
       "      <td>714</td>\n",
       "    </tr>\n",
       "  </tbody>\n",
       "</table>\n",
       "</div>"
      ],
      "text/plain": [
       "                                  person           event  \\\n",
       "12623   68213b08d99a4ae1b0dcb72aebd9aa35  offer received   \n",
       "29490   68213b08d99a4ae1b0dcb72aebd9aa35    offer viewed   \n",
       "62930   68213b08d99a4ae1b0dcb72aebd9aa35  offer received   \n",
       "163344  68213b08d99a4ae1b0dcb72aebd9aa35  offer received   \n",
       "167618  68213b08d99a4ae1b0dcb72aebd9aa35    offer viewed   \n",
       "200082  68213b08d99a4ae1b0dcb72aebd9aa35     transaction   \n",
       "209759  68213b08d99a4ae1b0dcb72aebd9aa35  offer received   \n",
       "230408  68213b08d99a4ae1b0dcb72aebd9aa35    offer viewed   \n",
       "254874  68213b08d99a4ae1b0dcb72aebd9aa35  offer received   \n",
       "306530  68213b08d99a4ae1b0dcb72aebd9aa35     transaction   \n",
       "\n",
       "                                                   value  time  \n",
       "12623   {'offer id': 'f19421c1d4aa40978ebb69ca19b0e20d'}     0  \n",
       "29490   {'offer id': 'f19421c1d4aa40978ebb69ca19b0e20d'}    42  \n",
       "62930   {'offer id': '3f207df678b143eea3cee63160fa8bed'}   168  \n",
       "163344  {'offer id': 'ae264e3637204a6fb9bb56bc8210ddfd'}   408  \n",
       "167618  {'offer id': 'ae264e3637204a6fb9bb56bc8210ddfd'}   408  \n",
       "200082                                  {'amount': 0.48}   492  \n",
       "209759  {'offer id': 'f19421c1d4aa40978ebb69ca19b0e20d'}   504  \n",
       "230408  {'offer id': 'f19421c1d4aa40978ebb69ca19b0e20d'}   528  \n",
       "254874  {'offer id': '2906b810c7d4411798c6938adc9daaa5'}   576  \n",
       "306530                                  {'amount': 9.53}   714  "
      ]
     },
     "execution_count": 23,
     "metadata": {},
     "output_type": "execute_result"
    }
   ],
   "source": [
    "transcript.loc[transcript.person == '68213b08d99a4ae1b0dcb72aebd9aa35']"
   ]
  },
  {
   "cell_type": "code",
   "execution_count": 24,
   "id": "8349da36",
   "metadata": {},
   "outputs": [
    {
     "name": "stdout",
     "output_type": "stream",
     "text": [
      "714 hours\n",
      "29.75 days\n"
     ]
    }
   ],
   "source": [
    "#test period \n",
    "\n",
    "print(f'{transcript.time.max()} hours')\n",
    "print(f'{transcript.time.max()/24} days')\n"
   ]
  },
  {
   "cell_type": "markdown",
   "id": "a82472ff",
   "metadata": {},
   "source": [
    "**Conclusion:**\n",
    "\n",
    "This dataset contains records of activities related to the test simulated. Each record is time-stamped since the start of the test. The test start at t=0 and ends at t=714 (≈ 30 days). The nature of each record is described using `event`. The `value` column holds a value based on the `event` column. For offer received, viewed, and completed, the offer id is recorded. For transaction, the amount is recorded. Although this dataset is somehow abstract, 306534 rows and 4 columns, most of the cleaning process will be performed on this dataset."
   ]
  },
  {
   "cell_type": "markdown",
   "id": "4a7cb814",
   "metadata": {},
   "source": [
    "<a id='data_preparation'></a>\n",
    "## 3. Data Preparation"
   ]
  },
  {
   "cell_type": "markdown",
   "id": "dec2ef7c",
   "metadata": {},
   "source": [
    "In this section, different compantions of techniques will be performed to produce the final dataset ready for modeling next section. Starting with cleaning the provided datasets, and then merging and aggregating data to form the final dataset. The final dataset will be grouped by customers profiles. The diagram below provide a high-level overview of the workflow followed in this project to produce final dataframe `coe` which stands for **C**ustomer-**O**ffer **E**ngagement.\n",
    "\n",
    "<img src=\"images/workflow.png\" style=\"margin: 10px 0px\"/>\n",
    "<center>Figure 1: Overview of Dataframes Manipulation</center>"
   ]
  },
  {
   "cell_type": "markdown",
   "id": "e6808447",
   "metadata": {},
   "source": [
    "### 3.1. Data Cleaning"
   ]
  },
  {
   "cell_type": "markdown",
   "id": "2d24fa42",
   "metadata": {},
   "source": [
    "#### 3.1.1. `portfolio` Dataset"
   ]
  },
  {
   "cell_type": "markdown",
   "id": "c53de39c",
   "metadata": {},
   "source": [
    "Starting be renaming columns `id` and `reward` to `offer_id` and `offered_reward` respectively. This serves readability. The latter in particular to make it distinguishable from a later added column `redeemed_reward`. "
   ]
  },
  {
   "cell_type": "code",
   "execution_count": 25,
   "id": "cfb36478",
   "metadata": {},
   "outputs": [
    {
     "data": {
      "text/html": [
       "<div>\n",
       "<style scoped>\n",
       "    .dataframe tbody tr th:only-of-type {\n",
       "        vertical-align: middle;\n",
       "    }\n",
       "\n",
       "    .dataframe tbody tr th {\n",
       "        vertical-align: top;\n",
       "    }\n",
       "\n",
       "    .dataframe thead th {\n",
       "        text-align: right;\n",
       "    }\n",
       "</style>\n",
       "<table border=\"1\" class=\"dataframe\">\n",
       "  <thead>\n",
       "    <tr style=\"text-align: right;\">\n",
       "      <th></th>\n",
       "      <th>reward</th>\n",
       "      <th>channels</th>\n",
       "      <th>difficulty</th>\n",
       "      <th>duration</th>\n",
       "      <th>offer_type</th>\n",
       "      <th>id</th>\n",
       "    </tr>\n",
       "  </thead>\n",
       "  <tbody>\n",
       "    <tr>\n",
       "      <th>0</th>\n",
       "      <td>10</td>\n",
       "      <td>[email, mobile, social]</td>\n",
       "      <td>10</td>\n",
       "      <td>7</td>\n",
       "      <td>bogo</td>\n",
       "      <td>ae264e3637204a6fb9bb56bc8210ddfd</td>\n",
       "    </tr>\n",
       "    <tr>\n",
       "      <th>1</th>\n",
       "      <td>10</td>\n",
       "      <td>[web, email, mobile, social]</td>\n",
       "      <td>10</td>\n",
       "      <td>5</td>\n",
       "      <td>bogo</td>\n",
       "      <td>4d5c57ea9a6940dd891ad53e9dbe8da0</td>\n",
       "    </tr>\n",
       "  </tbody>\n",
       "</table>\n",
       "</div>"
      ],
      "text/plain": [
       "   reward                      channels  difficulty  duration offer_type  \\\n",
       "0      10       [email, mobile, social]          10         7       bogo   \n",
       "1      10  [web, email, mobile, social]          10         5       bogo   \n",
       "\n",
       "                                 id  \n",
       "0  ae264e3637204a6fb9bb56bc8210ddfd  \n",
       "1  4d5c57ea9a6940dd891ad53e9dbe8da0  "
      ]
     },
     "execution_count": 25,
     "metadata": {},
     "output_type": "execute_result"
    }
   ],
   "source": [
    "portfolio.head(2)"
   ]
  },
  {
   "cell_type": "code",
   "execution_count": 26,
   "id": "cd7aaa06",
   "metadata": {},
   "outputs": [],
   "source": [
    "# Rename specified columns\n",
    "portfolio.rename(columns={\n",
    "    'id': 'offer_id',\n",
    "    'reward': 'offered_reward'}, inplace=True)"
   ]
  },
  {
   "cell_type": "code",
   "execution_count": 27,
   "id": "abd917d7",
   "metadata": {},
   "outputs": [
    {
     "data": {
      "text/html": [
       "<div>\n",
       "<style scoped>\n",
       "    .dataframe tbody tr th:only-of-type {\n",
       "        vertical-align: middle;\n",
       "    }\n",
       "\n",
       "    .dataframe tbody tr th {\n",
       "        vertical-align: top;\n",
       "    }\n",
       "\n",
       "    .dataframe thead th {\n",
       "        text-align: right;\n",
       "    }\n",
       "</style>\n",
       "<table border=\"1\" class=\"dataframe\">\n",
       "  <thead>\n",
       "    <tr style=\"text-align: right;\">\n",
       "      <th></th>\n",
       "      <th>offered_reward</th>\n",
       "      <th>channels</th>\n",
       "      <th>difficulty</th>\n",
       "      <th>duration</th>\n",
       "      <th>offer_type</th>\n",
       "      <th>offer_id</th>\n",
       "    </tr>\n",
       "  </thead>\n",
       "  <tbody>\n",
       "    <tr>\n",
       "      <th>0</th>\n",
       "      <td>10</td>\n",
       "      <td>[email, mobile, social]</td>\n",
       "      <td>10</td>\n",
       "      <td>7</td>\n",
       "      <td>bogo</td>\n",
       "      <td>ae264e3637204a6fb9bb56bc8210ddfd</td>\n",
       "    </tr>\n",
       "    <tr>\n",
       "      <th>1</th>\n",
       "      <td>10</td>\n",
       "      <td>[web, email, mobile, social]</td>\n",
       "      <td>10</td>\n",
       "      <td>5</td>\n",
       "      <td>bogo</td>\n",
       "      <td>4d5c57ea9a6940dd891ad53e9dbe8da0</td>\n",
       "    </tr>\n",
       "  </tbody>\n",
       "</table>\n",
       "</div>"
      ],
      "text/plain": [
       "   offered_reward                      channels  difficulty  duration  \\\n",
       "0              10       [email, mobile, social]          10         7   \n",
       "1              10  [web, email, mobile, social]          10         5   \n",
       "\n",
       "  offer_type                          offer_id  \n",
       "0       bogo  ae264e3637204a6fb9bb56bc8210ddfd  \n",
       "1       bogo  4d5c57ea9a6940dd891ad53e9dbe8da0  "
      ]
     },
     "execution_count": 27,
     "metadata": {},
     "output_type": "execute_result"
    }
   ],
   "source": [
    "portfolio.head(2)"
   ]
  },
  {
   "cell_type": "markdown",
   "id": "f2ac7030",
   "metadata": {},
   "source": [
    "One-hot encoding for columns `channels` and `offer_type` using utility function `one_hot_encoder`."
   ]
  },
  {
   "cell_type": "code",
   "execution_count": 28,
   "id": "f7409a3d",
   "metadata": {},
   "outputs": [
    {
     "name": "stdout",
     "output_type": "stream",
     "text": [
      "   offered_reward                      channels  difficulty  duration  \\\n",
      "0              10       [email, mobile, social]          10         7   \n",
      "1              10  [web, email, mobile, social]          10         5   \n",
      "2               0          [web, email, mobile]           0         4   \n",
      "3               5          [web, email, mobile]           5         7   \n",
      "4               5                  [web, email]          20        10   \n",
      "\n",
      "      offer_type                          offer_id  \n",
      "0           bogo  ae264e3637204a6fb9bb56bc8210ddfd  \n",
      "1           bogo  4d5c57ea9a6940dd891ad53e9dbe8da0  \n",
      "2  informational  3f207df678b143eea3cee63160fa8bed  \n",
      "3           bogo  9b98b8c7a33c4b65b9aebfe6a799e6d9  \n",
      "4       discount  0b1e1539f2cc45b7b9fa7c272da2e1d7  \n"
     ]
    }
   ],
   "source": [
    "print(portfolio.head())"
   ]
  },
  {
   "cell_type": "code",
   "execution_count": 29,
   "id": "92e21d2b",
   "metadata": {},
   "outputs": [],
   "source": [
    "# One-hot encode `channel` column\n",
    "portfolio = util.one_hot_encoder(\n",
    "    df = portfolio,\n",
    "    target_column = 'channels',\n",
    "    categories = ['web','email','mobile','social'],\n",
    "    prefix = 'channel')\n",
    "\n",
    "# One-hot encode `offer_type` column\n",
    "portfolio = util.one_hot_encoder(\n",
    "    df = portfolio,\n",
    "    target_column = 'offer_type',\n",
    "    categories = ['discount','bogo','informational'],\n",
    "    prefix = 'type')"
   ]
  },
  {
   "cell_type": "markdown",
   "id": "9cbed82f",
   "metadata": {},
   "source": [
    "Convert `offer_id` to integers, again for readability, while retaining the mapping dictionary later used to map offer ids in `transcript`. All done with help of utility function `label_encoder`."
   ]
  },
  {
   "cell_type": "code",
   "execution_count": 30,
   "id": "ded07e88",
   "metadata": {},
   "outputs": [],
   "source": [
    "# Convert `offer_id` to integers\n",
    "portfolio, offer_id_dict = util.label_encoder(\n",
    "    df = portfolio,\n",
    "    target_column = 'offer_id',\n",
    "    start = 1,\n",
    "    step = 1)"
   ]
  },
  {
   "cell_type": "code",
   "execution_count": 31,
   "id": "8c01694f",
   "metadata": {},
   "outputs": [
    {
     "data": {
      "text/plain": [
       "{'ae264e3637204a6fb9bb56bc8210ddfd': 1,\n",
       " '4d5c57ea9a6940dd891ad53e9dbe8da0': 2,\n",
       " '3f207df678b143eea3cee63160fa8bed': 3,\n",
       " '9b98b8c7a33c4b65b9aebfe6a799e6d9': 4,\n",
       " '0b1e1539f2cc45b7b9fa7c272da2e1d7': 5,\n",
       " '2298d6c36e964ae4a3e7e9706d1fb8c2': 6,\n",
       " 'fafdcd668e3743c1bb461111dcafc2a4': 7,\n",
       " '5a8bc65990b245e5a138643cd4eb9837': 8,\n",
       " 'f19421c1d4aa40978ebb69ca19b0e20d': 9,\n",
       " '2906b810c7d4411798c6938adc9daaa5': 10}"
      ]
     },
     "execution_count": 31,
     "metadata": {},
     "output_type": "execute_result"
    }
   ],
   "source": [
    "offer_id_dict"
   ]
  },
  {
   "cell_type": "code",
   "execution_count": 32,
   "id": "df7db4dc",
   "metadata": {},
   "outputs": [
    {
     "data": {
      "text/html": [
       "<div>\n",
       "<style scoped>\n",
       "    .dataframe tbody tr th:only-of-type {\n",
       "        vertical-align: middle;\n",
       "    }\n",
       "\n",
       "    .dataframe tbody tr th {\n",
       "        vertical-align: top;\n",
       "    }\n",
       "\n",
       "    .dataframe thead th {\n",
       "        text-align: right;\n",
       "    }\n",
       "</style>\n",
       "<table border=\"1\" class=\"dataframe\">\n",
       "  <thead>\n",
       "    <tr style=\"text-align: right;\">\n",
       "      <th></th>\n",
       "      <th>offered_reward</th>\n",
       "      <th>difficulty</th>\n",
       "      <th>duration</th>\n",
       "      <th>offer_id</th>\n",
       "      <th>channel_web</th>\n",
       "      <th>channel_email</th>\n",
       "      <th>channel_mobile</th>\n",
       "      <th>channel_social</th>\n",
       "      <th>type_discount</th>\n",
       "      <th>type_bogo</th>\n",
       "      <th>type_informational</th>\n",
       "    </tr>\n",
       "  </thead>\n",
       "  <tbody>\n",
       "    <tr>\n",
       "      <th>0</th>\n",
       "      <td>10</td>\n",
       "      <td>10</td>\n",
       "      <td>7</td>\n",
       "      <td>1</td>\n",
       "      <td>0</td>\n",
       "      <td>1</td>\n",
       "      <td>1</td>\n",
       "      <td>1</td>\n",
       "      <td>0</td>\n",
       "      <td>1</td>\n",
       "      <td>0</td>\n",
       "    </tr>\n",
       "    <tr>\n",
       "      <th>1</th>\n",
       "      <td>10</td>\n",
       "      <td>10</td>\n",
       "      <td>5</td>\n",
       "      <td>2</td>\n",
       "      <td>1</td>\n",
       "      <td>1</td>\n",
       "      <td>1</td>\n",
       "      <td>1</td>\n",
       "      <td>0</td>\n",
       "      <td>1</td>\n",
       "      <td>0</td>\n",
       "    </tr>\n",
       "    <tr>\n",
       "      <th>2</th>\n",
       "      <td>0</td>\n",
       "      <td>0</td>\n",
       "      <td>4</td>\n",
       "      <td>3</td>\n",
       "      <td>1</td>\n",
       "      <td>1</td>\n",
       "      <td>1</td>\n",
       "      <td>0</td>\n",
       "      <td>0</td>\n",
       "      <td>0</td>\n",
       "      <td>1</td>\n",
       "    </tr>\n",
       "    <tr>\n",
       "      <th>3</th>\n",
       "      <td>5</td>\n",
       "      <td>5</td>\n",
       "      <td>7</td>\n",
       "      <td>4</td>\n",
       "      <td>1</td>\n",
       "      <td>1</td>\n",
       "      <td>1</td>\n",
       "      <td>0</td>\n",
       "      <td>0</td>\n",
       "      <td>1</td>\n",
       "      <td>0</td>\n",
       "    </tr>\n",
       "    <tr>\n",
       "      <th>4</th>\n",
       "      <td>5</td>\n",
       "      <td>20</td>\n",
       "      <td>10</td>\n",
       "      <td>5</td>\n",
       "      <td>1</td>\n",
       "      <td>1</td>\n",
       "      <td>0</td>\n",
       "      <td>0</td>\n",
       "      <td>1</td>\n",
       "      <td>0</td>\n",
       "      <td>0</td>\n",
       "    </tr>\n",
       "  </tbody>\n",
       "</table>\n",
       "</div>"
      ],
      "text/plain": [
       "   offered_reward  difficulty  duration  offer_id  channel_web  channel_email  \\\n",
       "0              10          10         7         1            0              1   \n",
       "1              10          10         5         2            1              1   \n",
       "2               0           0         4         3            1              1   \n",
       "3               5           5         7         4            1              1   \n",
       "4               5          20        10         5            1              1   \n",
       "\n",
       "   channel_mobile  channel_social  type_discount  type_bogo  \\\n",
       "0               1               1              0          1   \n",
       "1               1               1              0          1   \n",
       "2               1               0              0          0   \n",
       "3               1               0              0          1   \n",
       "4               0               0              1          0   \n",
       "\n",
       "   type_informational  \n",
       "0                   0  \n",
       "1                   0  \n",
       "2                   1  \n",
       "3                   0  \n",
       "4                   0  "
      ]
     },
     "execution_count": 32,
     "metadata": {},
     "output_type": "execute_result"
    }
   ],
   "source": [
    "portfolio.head()"
   ]
  },
  {
   "cell_type": "code",
   "execution_count": 33,
   "id": "a23cefcd",
   "metadata": {},
   "outputs": [
    {
     "name": "stdout",
     "output_type": "stream",
     "text": [
      "            column  count  pct\n",
      "    offered_reward      0  0.0\n",
      "        difficulty      0  0.0\n",
      "          duration      0  0.0\n",
      "          offer_id      0  0.0\n",
      "       channel_web      0  0.0\n",
      "     channel_email      0  0.0\n",
      "    channel_mobile      0  0.0\n",
      "    channel_social      0  0.0\n",
      "     type_discount      0  0.0\n",
      "         type_bogo      0  0.0\n",
      "type_informational      0  0.0\n"
     ]
    }
   ],
   "source": [
    "util.compute_null_pct(portfolio)"
   ]
  },
  {
   "cell_type": "markdown",
   "id": "870a9a95",
   "metadata": {},
   "source": [
    "#### 3.1.2. `profile` Dataset"
   ]
  },
  {
   "cell_type": "markdown",
   "id": "65b3d112",
   "metadata": {},
   "source": [
    "Rename `id` column to `customer_id`"
   ]
  },
  {
   "cell_type": "code",
   "execution_count": 34,
   "id": "a1e6eb0a",
   "metadata": {},
   "outputs": [],
   "source": [
    "profile.rename(columns={'id': 'customer_id'}, inplace=True)"
   ]
  },
  {
   "cell_type": "markdown",
   "id": "ecfe0d7a",
   "metadata": {},
   "source": [
    "Convert `became_member_on` column to standard `datetime` object. This will be used then to add calculated `days_member` column and then dropped. "
   ]
  },
  {
   "cell_type": "code",
   "execution_count": 35,
   "id": "db20e7f4",
   "metadata": {},
   "outputs": [],
   "source": [
    "# Convert `became_member_on` to standard `datetime` object\n",
    "profile.became_member_on = pd.to_datetime(profile.became_member_on, format='%Y%m%d')\n",
    "\n"
   ]
  },
  {
   "cell_type": "code",
   "execution_count": 36,
   "id": "02a37c7e",
   "metadata": {},
   "outputs": [],
   "source": [
    "profile['days_member'] = (pd.to_datetime('today') - profile['became_member_on']).dt.days\n"
   ]
  },
  {
   "cell_type": "code",
   "execution_count": 37,
   "id": "4c8fe1f5",
   "metadata": {},
   "outputs": [
    {
     "data": {
      "text/plain": [
       "0        3099\n",
       "1        2946\n",
       "2        2584\n",
       "3        3013\n",
       "4        2926\n",
       "         ... \n",
       "16995    2622\n",
       "16996    2583\n",
       "16997    3116\n",
       "16998    3441\n",
       "16999    2939\n",
       "Name: days_member, Length: 17000, dtype: int64"
      ]
     },
     "execution_count": 37,
     "metadata": {},
     "output_type": "execute_result"
    }
   ],
   "source": [
    "profile['days_member']"
   ]
  },
  {
   "cell_type": "code",
   "execution_count": 38,
   "id": "85910093",
   "metadata": {},
   "outputs": [],
   "source": [
    "# Drop `became_member_on`\n",
    "profile.drop(columns='became_member_on', inplace=True)"
   ]
  },
  {
   "cell_type": "markdown",
   "id": "f22594cb",
   "metadata": {},
   "source": [
    "In regards to the 2175 profiles with missing values discussed earlier, the decision was to simply drop them. Also, dropping 212 profiles with 'other' gender. This to make it much easier to just remap 'male' and 'female' gender with binary values in one column. It's important to retain their ids in order to later remove corresponding activies in `transcript`."
   ]
  },
  {
   "cell_type": "code",
   "execution_count": 39,
   "id": "5ea64504",
   "metadata": {},
   "outputs": [
    {
     "name": "stdout",
     "output_type": "stream",
     "text": [
      "Removing 2387\n"
     ]
    }
   ],
   "source": [
    "# copy coy customer id of rows to be removed so that we can remove other rows with same customer id\n",
    "customers_removed = profile.loc[(profile.age == 118) | (profile.gender == 'O'), 'customer_id'].to_list()\n",
    "# Remove rows with `age` == 118 or `gender` == 'O'\n",
    "print(f'Removing {len(customers_removed)}')"
   ]
  },
  {
   "cell_type": "code",
   "execution_count": 40,
   "id": "614a3c5e",
   "metadata": {},
   "outputs": [
    {
     "name": "stdout",
     "output_type": "stream",
     "text": [
      "Total remains same 17000  customers with age\n"
     ]
    }
   ],
   "source": [
    "#remove customers with customer id in customers_removed\n",
    "profile = profile[~profile.customer_id.isin(customers_removed)]\n",
    "print(f'Total remains same {len(customers_removed)+len(profile)}  customers with age')"
   ]
  },
  {
   "cell_type": "markdown",
   "id": "1910b9a1",
   "metadata": {},
   "source": [
    "Now `gender` column is converted to a binary column"
   ]
  },
  {
   "cell_type": "code",
   "execution_count": 41,
   "id": "5ca956a6",
   "metadata": {},
   "outputs": [],
   "source": [
    "profile.gender = profile.gender.map({\n",
    "    'F': 0,\n",
    "    'M': 1,\n",
    "})"
   ]
  },
  {
   "cell_type": "markdown",
   "id": "e4362438",
   "metadata": {},
   "source": [
    "Convert `customer_id` to integers, again for readability, while retaining the mapping dictionary later used to map customer ids in `transcript`. All done with help of utility function `label_encoder`."
   ]
  },
  {
   "cell_type": "code",
   "execution_count": 42,
   "id": "110fced4",
   "metadata": {},
   "outputs": [],
   "source": [
    "# Convert `customer_id` to integers\n",
    "profile, customer_id_dict = util.label_encoder(\n",
    "    df = profile,\n",
    "    target_column = 'customer_id',\n",
    "    start = 1,\n",
    "    step = 1)"
   ]
  },
  {
   "cell_type": "code",
   "execution_count": 43,
   "id": "c904c415",
   "metadata": {},
   "outputs": [
    {
     "data": {
      "text/plain": [
       "{'0610b486422d4921ae7d2bf64640c50b': 1,\n",
       " '78afa995795e4d85b5d9ceeca43f5fef': 2,\n",
       " 'e2127556f4f64592b11af22de27a7932': 3,\n",
       " '389bc3fa690240e798340f5a15918d5c': 4,\n",
       " '2eeac8d8feae4a8cad5a6af0499a211d': 5}"
      ]
     },
     "execution_count": 43,
     "metadata": {},
     "output_type": "execute_result"
    }
   ],
   "source": [
    "# Preview 5 element\n",
    "dict(list(customer_id_dict.items())[0:5])"
   ]
  },
  {
   "cell_type": "code",
   "execution_count": 44,
   "id": "3157388b",
   "metadata": {},
   "outputs": [
    {
     "data": {
      "text/html": [
       "<div>\n",
       "<style scoped>\n",
       "    .dataframe tbody tr th:only-of-type {\n",
       "        vertical-align: middle;\n",
       "    }\n",
       "\n",
       "    .dataframe tbody tr th {\n",
       "        vertical-align: top;\n",
       "    }\n",
       "\n",
       "    .dataframe thead th {\n",
       "        text-align: right;\n",
       "    }\n",
       "</style>\n",
       "<table border=\"1\" class=\"dataframe\">\n",
       "  <thead>\n",
       "    <tr style=\"text-align: right;\">\n",
       "      <th></th>\n",
       "      <th>gender</th>\n",
       "      <th>age</th>\n",
       "      <th>customer_id</th>\n",
       "      <th>income</th>\n",
       "      <th>days_member</th>\n",
       "    </tr>\n",
       "  </thead>\n",
       "  <tbody>\n",
       "    <tr>\n",
       "      <th>1</th>\n",
       "      <td>0</td>\n",
       "      <td>55</td>\n",
       "      <td>1</td>\n",
       "      <td>112000.0</td>\n",
       "      <td>2946</td>\n",
       "    </tr>\n",
       "    <tr>\n",
       "      <th>3</th>\n",
       "      <td>0</td>\n",
       "      <td>75</td>\n",
       "      <td>2</td>\n",
       "      <td>100000.0</td>\n",
       "      <td>3013</td>\n",
       "    </tr>\n",
       "    <tr>\n",
       "      <th>5</th>\n",
       "      <td>1</td>\n",
       "      <td>68</td>\n",
       "      <td>3</td>\n",
       "      <td>70000.0</td>\n",
       "      <td>2661</td>\n",
       "    </tr>\n",
       "    <tr>\n",
       "      <th>8</th>\n",
       "      <td>1</td>\n",
       "      <td>65</td>\n",
       "      <td>4</td>\n",
       "      <td>53000.0</td>\n",
       "      <td>2737</td>\n",
       "    </tr>\n",
       "    <tr>\n",
       "      <th>12</th>\n",
       "      <td>1</td>\n",
       "      <td>58</td>\n",
       "      <td>5</td>\n",
       "      <td>51000.0</td>\n",
       "      <td>2827</td>\n",
       "    </tr>\n",
       "  </tbody>\n",
       "</table>\n",
       "</div>"
      ],
      "text/plain": [
       "    gender  age  customer_id    income  days_member\n",
       "1        0   55            1  112000.0         2946\n",
       "3        0   75            2  100000.0         3013\n",
       "5        1   68            3   70000.0         2661\n",
       "8        1   65            4   53000.0         2737\n",
       "12       1   58            5   51000.0         2827"
      ]
     },
     "execution_count": 44,
     "metadata": {},
     "output_type": "execute_result"
    }
   ],
   "source": [
    "profile.head()"
   ]
  },
  {
   "cell_type": "code",
   "execution_count": 45,
   "id": "ed21aca4",
   "metadata": {},
   "outputs": [
    {
     "name": "stdout",
     "output_type": "stream",
     "text": [
      "     column  count  pct\n",
      "     gender      0  0.0\n",
      "        age      0  0.0\n",
      "customer_id      0  0.0\n",
      "     income      0  0.0\n",
      "days_member      0  0.0\n"
     ]
    }
   ],
   "source": [
    "util.compute_null_pct(profile)"
   ]
  },
  {
   "cell_type": "markdown",
   "id": "fb38e66f",
   "metadata": {},
   "source": [
    "#### 3.1.2. `transcript` Dataset"
   ]
  },
  {
   "cell_type": "markdown",
   "id": "94ad4b7f",
   "metadata": {},
   "source": [
    "Rename `person` column to `customer_id`"
   ]
  },
  {
   "cell_type": "code",
   "execution_count": 46,
   "id": "deaa7b40",
   "metadata": {},
   "outputs": [],
   "source": [
    "# Rename `person` column to `customer_id`\n",
    "transcript.rename(columns={'person': 'customer_id'}, inplace=True)"
   ]
  },
  {
   "cell_type": "markdown",
   "id": "e4708671",
   "metadata": {},
   "source": [
    "Drop rows with `customer_id` corresponding to deleted users in `profile`."
   ]
  },
  {
   "cell_type": "code",
   "execution_count": 47,
   "id": "eb569fdf",
   "metadata": {},
   "outputs": [],
   "source": [
    "# Drop rows with `customer_id` corresponding to deleted users in `profile`\n",
    "transcript = transcript[transcript.customer_id.isin(customers_removed) == False]"
   ]
  },
  {
   "cell_type": "markdown",
   "id": "0fc2f5c1",
   "metadata": {},
   "source": [
    "Map `customer_id` with previously created `customer_id_dict`"
   ]
  },
  {
   "cell_type": "code",
   "execution_count": 48,
   "id": "8633bc95",
   "metadata": {},
   "outputs": [],
   "source": [
    "# Map `customer_id` with previously created `customer_id_dict`\n",
    "transcript.customer_id = transcript.customer_id.apply(lambda x: customer_id_dict[x])"
   ]
  },
  {
   "cell_type": "markdown",
   "id": "f6e0e1c1",
   "metadata": {},
   "source": [
    "To deal with `value` column, two new columns are created. `value_type` and `actual_value`. Their entries are derived by applying a function along each row to extract and hence separate data. Original `value` column is then dropped.  "
   ]
  },
  {
   "cell_type": "code",
   "execution_count": 49,
   "id": "50e9c53b",
   "metadata": {},
   "outputs": [],
   "source": [
    "# Add column `value_type`\n",
    "transcript['value_type'] = transcript.value.apply(lambda x : list(x.keys())[0])\n",
    "\n",
    "# Add column `actual_value`\n",
    "transcript['actual_value'] = transcript.value.apply(lambda x : list(x.values())[0])\n",
    "\n",
    "# Drop `value` column\n",
    "transcript.drop(columns='value', inplace=True)"
   ]
  },
  {
   "cell_type": "code",
   "execution_count": 50,
   "id": "9fe43d57",
   "metadata": {},
   "outputs": [
    {
     "data": {
      "text/html": [
       "<div>\n",
       "<style scoped>\n",
       "    .dataframe tbody tr th:only-of-type {\n",
       "        vertical-align: middle;\n",
       "    }\n",
       "\n",
       "    .dataframe tbody tr th {\n",
       "        vertical-align: top;\n",
       "    }\n",
       "\n",
       "    .dataframe thead th {\n",
       "        text-align: right;\n",
       "    }\n",
       "</style>\n",
       "<table border=\"1\" class=\"dataframe\">\n",
       "  <thead>\n",
       "    <tr style=\"text-align: right;\">\n",
       "      <th></th>\n",
       "      <th>customer_id</th>\n",
       "      <th>event</th>\n",
       "      <th>time</th>\n",
       "      <th>value_type</th>\n",
       "      <th>actual_value</th>\n",
       "    </tr>\n",
       "  </thead>\n",
       "  <tbody>\n",
       "    <tr>\n",
       "      <th>0</th>\n",
       "      <td>2</td>\n",
       "      <td>offer received</td>\n",
       "      <td>0</td>\n",
       "      <td>offer id</td>\n",
       "      <td>9b98b8c7a33c4b65b9aebfe6a799e6d9</td>\n",
       "    </tr>\n",
       "    <tr>\n",
       "      <th>2</th>\n",
       "      <td>3</td>\n",
       "      <td>offer received</td>\n",
       "      <td>0</td>\n",
       "      <td>offer id</td>\n",
       "      <td>2906b810c7d4411798c6938adc9daaa5</td>\n",
       "    </tr>\n",
       "  </tbody>\n",
       "</table>\n",
       "</div>"
      ],
      "text/plain": [
       "   customer_id           event  time value_type  \\\n",
       "0            2  offer received     0   offer id   \n",
       "2            3  offer received     0   offer id   \n",
       "\n",
       "                       actual_value  \n",
       "0  9b98b8c7a33c4b65b9aebfe6a799e6d9  \n",
       "2  2906b810c7d4411798c6938adc9daaa5  "
      ]
     },
     "execution_count": 50,
     "metadata": {},
     "output_type": "execute_result"
    }
   ],
   "source": [
    "transcript.head(2)\n"
   ]
  },
  {
   "cell_type": "code",
   "execution_count": 51,
   "id": "bb203954",
   "metadata": {},
   "outputs": [
    {
     "data": {
      "text/html": [
       "<div>\n",
       "<style scoped>\n",
       "    .dataframe tbody tr th:only-of-type {\n",
       "        vertical-align: middle;\n",
       "    }\n",
       "\n",
       "    .dataframe tbody tr th {\n",
       "        vertical-align: top;\n",
       "    }\n",
       "\n",
       "    .dataframe thead th {\n",
       "        text-align: right;\n",
       "    }\n",
       "</style>\n",
       "<table border=\"1\" class=\"dataframe\">\n",
       "  <thead>\n",
       "    <tr style=\"text-align: right;\">\n",
       "      <th></th>\n",
       "      <th>customer_id</th>\n",
       "      <th>event</th>\n",
       "      <th>time</th>\n",
       "      <th>value_type</th>\n",
       "      <th>actual_value</th>\n",
       "    </tr>\n",
       "  </thead>\n",
       "  <tbody>\n",
       "    <tr>\n",
       "      <th>306531</th>\n",
       "      <td>14598</td>\n",
       "      <td>transaction</td>\n",
       "      <td>714</td>\n",
       "      <td>amount</td>\n",
       "      <td>3.61</td>\n",
       "    </tr>\n",
       "    <tr>\n",
       "      <th>306532</th>\n",
       "      <td>14604</td>\n",
       "      <td>transaction</td>\n",
       "      <td>714</td>\n",
       "      <td>amount</td>\n",
       "      <td>3.53</td>\n",
       "    </tr>\n",
       "  </tbody>\n",
       "</table>\n",
       "</div>"
      ],
      "text/plain": [
       "        customer_id        event  time value_type actual_value\n",
       "306531        14598  transaction   714     amount         3.61\n",
       "306532        14604  transaction   714     amount         3.53"
      ]
     },
     "execution_count": 51,
     "metadata": {},
     "output_type": "execute_result"
    }
   ],
   "source": [
    "transcript.tail(2)"
   ]
  },
  {
   "cell_type": "markdown",
   "id": "cabf5b36",
   "metadata": {},
   "source": [
    "Split `transcript` dataset into offers and transactions to work on each separately. "
   ]
  },
  {
   "cell_type": "code",
   "execution_count": 52,
   "id": "805258da",
   "metadata": {},
   "outputs": [],
   "source": [
    "# Split `transcript` dataset into offer and transaction\n",
    "offers_df = transcript[transcript['event'] != 'transaction']\n",
    "transactions_df = transcript[transcript['event'] == 'transaction']"
   ]
  },
  {
   "cell_type": "markdown",
   "id": "730e6fc6",
   "metadata": {},
   "source": [
    "Now, column `actual_value` can be renamed in each dataframe accordingly. In `offers_df` will be renamed to `offer_id`, and in `transactions_df` will be renamed to `amount`."
   ]
  },
  {
   "cell_type": "code",
   "execution_count": 53,
   "id": "1f5d0fbf",
   "metadata": {},
   "outputs": [],
   "source": [
    "# Rename columns\n",
    "offers_df.rename(columns={'actual_value': 'offer_id'}, inplace=True)\n",
    "transactions_df.rename(columns={'actual_value': 'amount'}, inplace=True)"
   ]
  },
  {
   "cell_type": "markdown",
   "id": "0a4ef517",
   "metadata": {},
   "source": [
    "Due to this split, some coulmns are no longer needed. `value_type` in `offers_df`. `event` and `value_type` in `transactions_df`. These columns are to be dropped.  the `value` column was separated"
   ]
  },
  {
   "cell_type": "code",
   "execution_count": 54,
   "id": "d333cfea",
   "metadata": {},
   "outputs": [],
   "source": [
    "# Drop unnecessary columns\n",
    "offers_df.drop(columns='value_type', inplace=True)\n",
    "transactions_df.drop(columns=['value_type', 'event'], inplace=True)"
   ]
  },
  {
   "cell_type": "markdown",
   "id": "4d08fbae",
   "metadata": {},
   "source": [
    "Now, it is possible to map `offer_id` in  `offers_df` with previously created `offer_id_dict`."
   ]
  },
  {
   "cell_type": "code",
   "execution_count": 55,
   "id": "7c2a6af1",
   "metadata": {},
   "outputs": [],
   "source": [
    "# Map `offer_id` with previously created `offer_id_dict`\n",
    "offers_df.offer_id = offers_df.offer_id.apply(lambda x: offer_id_dict[x])\n"
   ]
  },
  {
   "cell_type": "code",
   "execution_count": 56,
   "id": "0e631fa2",
   "metadata": {},
   "outputs": [
    {
     "data": {
      "text/html": [
       "<div>\n",
       "<style scoped>\n",
       "    .dataframe tbody tr th:only-of-type {\n",
       "        vertical-align: middle;\n",
       "    }\n",
       "\n",
       "    .dataframe tbody tr th {\n",
       "        vertical-align: top;\n",
       "    }\n",
       "\n",
       "    .dataframe thead th {\n",
       "        text-align: right;\n",
       "    }\n",
       "</style>\n",
       "<table border=\"1\" class=\"dataframe\">\n",
       "  <thead>\n",
       "    <tr style=\"text-align: right;\">\n",
       "      <th></th>\n",
       "      <th>customer_id</th>\n",
       "      <th>event</th>\n",
       "      <th>time</th>\n",
       "      <th>offer_id</th>\n",
       "    </tr>\n",
       "  </thead>\n",
       "  <tbody>\n",
       "    <tr>\n",
       "      <th>0</th>\n",
       "      <td>2</td>\n",
       "      <td>offer received</td>\n",
       "      <td>0</td>\n",
       "      <td>4</td>\n",
       "    </tr>\n",
       "    <tr>\n",
       "      <th>2</th>\n",
       "      <td>3</td>\n",
       "      <td>offer received</td>\n",
       "      <td>0</td>\n",
       "      <td>10</td>\n",
       "    </tr>\n",
       "    <tr>\n",
       "      <th>5</th>\n",
       "      <td>4</td>\n",
       "      <td>offer received</td>\n",
       "      <td>0</td>\n",
       "      <td>9</td>\n",
       "    </tr>\n",
       "    <tr>\n",
       "      <th>7</th>\n",
       "      <td>5</td>\n",
       "      <td>offer received</td>\n",
       "      <td>0</td>\n",
       "      <td>3</td>\n",
       "    </tr>\n",
       "    <tr>\n",
       "      <th>8</th>\n",
       "      <td>6</td>\n",
       "      <td>offer received</td>\n",
       "      <td>0</td>\n",
       "      <td>5</td>\n",
       "    </tr>\n",
       "  </tbody>\n",
       "</table>\n",
       "</div>"
      ],
      "text/plain": [
       "   customer_id           event  time  offer_id\n",
       "0            2  offer received     0         4\n",
       "2            3  offer received     0        10\n",
       "5            4  offer received     0         9\n",
       "7            5  offer received     0         3\n",
       "8            6  offer received     0         5"
      ]
     },
     "execution_count": 56,
     "metadata": {},
     "output_type": "execute_result"
    }
   ],
   "source": [
    "offers_df.head()\n"
   ]
  },
  {
   "cell_type": "code",
   "execution_count": 57,
   "id": "abf04853",
   "metadata": {},
   "outputs": [
    {
     "name": "stdout",
     "output_type": "stream",
     "text": [
      "     column  count  pct\n",
      "customer_id      0  0.0\n",
      "      event      0  0.0\n",
      "       time      0  0.0\n",
      "   offer_id      0  0.0\n"
     ]
    }
   ],
   "source": [
    "util.compute_null_pct(offers_df)"
   ]
  },
  {
   "cell_type": "code",
   "execution_count": 58,
   "id": "a23a8c92",
   "metadata": {},
   "outputs": [
    {
     "data": {
      "text/html": [
       "<div>\n",
       "<style scoped>\n",
       "    .dataframe tbody tr th:only-of-type {\n",
       "        vertical-align: middle;\n",
       "    }\n",
       "\n",
       "    .dataframe tbody tr th {\n",
       "        vertical-align: top;\n",
       "    }\n",
       "\n",
       "    .dataframe thead th {\n",
       "        text-align: right;\n",
       "    }\n",
       "</style>\n",
       "<table border=\"1\" class=\"dataframe\">\n",
       "  <thead>\n",
       "    <tr style=\"text-align: right;\">\n",
       "      <th></th>\n",
       "      <th>customer_id</th>\n",
       "      <th>time</th>\n",
       "      <th>amount</th>\n",
       "    </tr>\n",
       "  </thead>\n",
       "  <tbody>\n",
       "    <tr>\n",
       "      <th>12654</th>\n",
       "      <td>28</td>\n",
       "      <td>0</td>\n",
       "      <td>0.83</td>\n",
       "    </tr>\n",
       "    <tr>\n",
       "      <th>12657</th>\n",
       "      <td>39</td>\n",
       "      <td>0</td>\n",
       "      <td>34.56</td>\n",
       "    </tr>\n",
       "    <tr>\n",
       "      <th>12659</th>\n",
       "      <td>45</td>\n",
       "      <td>0</td>\n",
       "      <td>13.23</td>\n",
       "    </tr>\n",
       "    <tr>\n",
       "      <th>12670</th>\n",
       "      <td>107</td>\n",
       "      <td>0</td>\n",
       "      <td>19.51</td>\n",
       "    </tr>\n",
       "    <tr>\n",
       "      <th>12671</th>\n",
       "      <td>123</td>\n",
       "      <td>0</td>\n",
       "      <td>18.97</td>\n",
       "    </tr>\n",
       "  </tbody>\n",
       "</table>\n",
       "</div>"
      ],
      "text/plain": [
       "       customer_id  time amount\n",
       "12654           28     0   0.83\n",
       "12657           39     0  34.56\n",
       "12659           45     0  13.23\n",
       "12670          107     0  19.51\n",
       "12671          123     0  18.97"
      ]
     },
     "execution_count": 58,
     "metadata": {},
     "output_type": "execute_result"
    }
   ],
   "source": [
    "transactions_df.head()"
   ]
  },
  {
   "cell_type": "code",
   "execution_count": 59,
   "id": "2175d7d0",
   "metadata": {},
   "outputs": [
    {
     "name": "stdout",
     "output_type": "stream",
     "text": [
      "     column  count  pct\n",
      "customer_id      0  0.0\n",
      "       time      0  0.0\n",
      "     amount      0  0.0\n"
     ]
    }
   ],
   "source": [
    "util.compute_null_pct(transactions_df)"
   ]
  },
  {
   "cell_type": "markdown",
   "id": "9ef73052",
   "metadata": {},
   "source": [
    "### 3.2. Data Preprocessing"
   ]
  },
  {
   "cell_type": "markdown",
   "id": "174d9fd6",
   "metadata": {},
   "source": [
    "Now that the four dataframes, `portfolio`, `profile`, `offers_df`, and `transactions_df` are cleaned. The process of merging and aggregating data can proceed."
   ]
  },
  {
   "cell_type": "markdown",
   "id": "6207ab34",
   "metadata": {},
   "source": [
    "The first step is merge `portfolio` to `offers_df`. "
   ]
  },
  {
   "cell_type": "code",
   "execution_count": 60,
   "id": "2b93168b",
   "metadata": {},
   "outputs": [],
   "source": [
    "# Merge `portfolio` to `offers_df`\n",
    "offers_df = pd.merge(offers_df, portfolio, on='offer_id')\n"
   ]
  },
  {
   "cell_type": "code",
   "execution_count": 61,
   "id": "e5d41899",
   "metadata": {},
   "outputs": [
    {
     "data": {
      "text/html": [
       "<div>\n",
       "<style scoped>\n",
       "    .dataframe tbody tr th:only-of-type {\n",
       "        vertical-align: middle;\n",
       "    }\n",
       "\n",
       "    .dataframe tbody tr th {\n",
       "        vertical-align: top;\n",
       "    }\n",
       "\n",
       "    .dataframe thead th {\n",
       "        text-align: right;\n",
       "    }\n",
       "</style>\n",
       "<table border=\"1\" class=\"dataframe\">\n",
       "  <thead>\n",
       "    <tr style=\"text-align: right;\">\n",
       "      <th></th>\n",
       "      <th>customer_id</th>\n",
       "      <th>event</th>\n",
       "      <th>time</th>\n",
       "      <th>offer_id</th>\n",
       "      <th>offered_reward</th>\n",
       "      <th>difficulty</th>\n",
       "      <th>duration</th>\n",
       "      <th>channel_web</th>\n",
       "      <th>channel_email</th>\n",
       "      <th>channel_mobile</th>\n",
       "      <th>channel_social</th>\n",
       "      <th>type_discount</th>\n",
       "      <th>type_bogo</th>\n",
       "      <th>type_informational</th>\n",
       "    </tr>\n",
       "  </thead>\n",
       "  <tbody>\n",
       "    <tr>\n",
       "      <th>0</th>\n",
       "      <td>2</td>\n",
       "      <td>offer received</td>\n",
       "      <td>0</td>\n",
       "      <td>4</td>\n",
       "      <td>5</td>\n",
       "      <td>5</td>\n",
       "      <td>7</td>\n",
       "      <td>1</td>\n",
       "      <td>1</td>\n",
       "      <td>1</td>\n",
       "      <td>0</td>\n",
       "      <td>0</td>\n",
       "      <td>1</td>\n",
       "      <td>0</td>\n",
       "    </tr>\n",
       "    <tr>\n",
       "      <th>1</th>\n",
       "      <td>3</td>\n",
       "      <td>offer received</td>\n",
       "      <td>0</td>\n",
       "      <td>10</td>\n",
       "      <td>2</td>\n",
       "      <td>10</td>\n",
       "      <td>7</td>\n",
       "      <td>1</td>\n",
       "      <td>1</td>\n",
       "      <td>1</td>\n",
       "      <td>0</td>\n",
       "      <td>1</td>\n",
       "      <td>0</td>\n",
       "      <td>0</td>\n",
       "    </tr>\n",
       "    <tr>\n",
       "      <th>2</th>\n",
       "      <td>4</td>\n",
       "      <td>offer received</td>\n",
       "      <td>0</td>\n",
       "      <td>9</td>\n",
       "      <td>5</td>\n",
       "      <td>5</td>\n",
       "      <td>5</td>\n",
       "      <td>1</td>\n",
       "      <td>1</td>\n",
       "      <td>1</td>\n",
       "      <td>1</td>\n",
       "      <td>0</td>\n",
       "      <td>1</td>\n",
       "      <td>0</td>\n",
       "    </tr>\n",
       "    <tr>\n",
       "      <th>3</th>\n",
       "      <td>5</td>\n",
       "      <td>offer received</td>\n",
       "      <td>0</td>\n",
       "      <td>3</td>\n",
       "      <td>0</td>\n",
       "      <td>0</td>\n",
       "      <td>4</td>\n",
       "      <td>1</td>\n",
       "      <td>1</td>\n",
       "      <td>1</td>\n",
       "      <td>0</td>\n",
       "      <td>0</td>\n",
       "      <td>0</td>\n",
       "      <td>1</td>\n",
       "    </tr>\n",
       "    <tr>\n",
       "      <th>4</th>\n",
       "      <td>6</td>\n",
       "      <td>offer received</td>\n",
       "      <td>0</td>\n",
       "      <td>5</td>\n",
       "      <td>5</td>\n",
       "      <td>20</td>\n",
       "      <td>10</td>\n",
       "      <td>1</td>\n",
       "      <td>1</td>\n",
       "      <td>0</td>\n",
       "      <td>0</td>\n",
       "      <td>1</td>\n",
       "      <td>0</td>\n",
       "      <td>0</td>\n",
       "    </tr>\n",
       "  </tbody>\n",
       "</table>\n",
       "</div>"
      ],
      "text/plain": [
       "   customer_id           event  time  offer_id  offered_reward  difficulty  \\\n",
       "0            2  offer received     0         4               5           5   \n",
       "1            3  offer received     0        10               2          10   \n",
       "2            4  offer received     0         9               5           5   \n",
       "3            5  offer received     0         3               0           0   \n",
       "4            6  offer received     0         5               5          20   \n",
       "\n",
       "   duration  channel_web  channel_email  channel_mobile  channel_social  \\\n",
       "0         7            1              1               1               0   \n",
       "1         7            1              1               1               0   \n",
       "2         5            1              1               1               1   \n",
       "3         4            1              1               1               0   \n",
       "4        10            1              1               0               0   \n",
       "\n",
       "   type_discount  type_bogo  type_informational  \n",
       "0              0          1                   0  \n",
       "1              1          0                   0  \n",
       "2              0          1                   0  \n",
       "3              0          0                   1  \n",
       "4              1          0                   0  "
      ]
     },
     "execution_count": 61,
     "metadata": {},
     "output_type": "execute_result"
    }
   ],
   "source": [
    "offers_df.head()\n"
   ]
  },
  {
   "cell_type": "markdown",
   "id": "522b66c1",
   "metadata": {},
   "source": [
    "Three dataframes are then created based on `event`."
   ]
  },
  {
   "cell_type": "code",
   "execution_count": 62,
   "id": "2a88d174",
   "metadata": {},
   "outputs": [],
   "source": [
    "# Split `offers_df` based on `event`\n",
    "received_df = offers_df[offers_df['event']=='offer received']\n",
    "viewed_df = offers_df[offers_df['event']=='offer viewed']\n",
    "completed_df = offers_df[offers_df['event']=='offer completed']"
   ]
  },
  {
   "cell_type": "markdown",
   "id": "25442987",
   "metadata": {},
   "source": [
    "To keep things clean, new auxiliary dataframe `aux_df` is created as a copy of `received_df` which will be the workspace for all preprocessing steps. Many of the columns created in this dataframe will not make it to the final dataframe grouped by customer profiles but they are useful in logical operations."
   ]
  },
  {
   "cell_type": "code",
   "execution_count": 63,
   "id": "b8de1694",
   "metadata": {},
   "outputs": [],
   "source": [
    "#creating a temp_df : a copy of received_df\n",
    "temp_df = received_df.copy()"
   ]
  },
  {
   "cell_type": "markdown",
   "id": "381609d5",
   "metadata": {},
   "source": [
    "Since `aux_df` is nothing but a copy of `received_df`. Simply the `event` column which only contains the value ‘offer_recieved’ can be renamed to `offer_recieved` with a value of 1."
   ]
  },
  {
   "cell_type": "code",
   "execution_count": 64,
   "id": "42958259",
   "metadata": {},
   "outputs": [
    {
     "data": {
      "text/html": [
       "<div>\n",
       "<style scoped>\n",
       "    .dataframe tbody tr th:only-of-type {\n",
       "        vertical-align: middle;\n",
       "    }\n",
       "\n",
       "    .dataframe tbody tr th {\n",
       "        vertical-align: top;\n",
       "    }\n",
       "\n",
       "    .dataframe thead th {\n",
       "        text-align: right;\n",
       "    }\n",
       "</style>\n",
       "<table border=\"1\" class=\"dataframe\">\n",
       "  <thead>\n",
       "    <tr style=\"text-align: right;\">\n",
       "      <th></th>\n",
       "      <th>customer_id</th>\n",
       "      <th>event</th>\n",
       "      <th>time</th>\n",
       "      <th>offer_id</th>\n",
       "      <th>offered_reward</th>\n",
       "      <th>difficulty</th>\n",
       "      <th>duration</th>\n",
       "      <th>channel_web</th>\n",
       "      <th>channel_email</th>\n",
       "      <th>channel_mobile</th>\n",
       "      <th>channel_social</th>\n",
       "      <th>type_discount</th>\n",
       "      <th>type_bogo</th>\n",
       "      <th>type_informational</th>\n",
       "    </tr>\n",
       "  </thead>\n",
       "  <tbody>\n",
       "    <tr>\n",
       "      <th>0</th>\n",
       "      <td>2</td>\n",
       "      <td>offer received</td>\n",
       "      <td>0</td>\n",
       "      <td>4</td>\n",
       "      <td>5</td>\n",
       "      <td>5</td>\n",
       "      <td>7</td>\n",
       "      <td>1</td>\n",
       "      <td>1</td>\n",
       "      <td>1</td>\n",
       "      <td>0</td>\n",
       "      <td>0</td>\n",
       "      <td>1</td>\n",
       "      <td>0</td>\n",
       "    </tr>\n",
       "    <tr>\n",
       "      <th>1</th>\n",
       "      <td>3</td>\n",
       "      <td>offer received</td>\n",
       "      <td>0</td>\n",
       "      <td>10</td>\n",
       "      <td>2</td>\n",
       "      <td>10</td>\n",
       "      <td>7</td>\n",
       "      <td>1</td>\n",
       "      <td>1</td>\n",
       "      <td>1</td>\n",
       "      <td>0</td>\n",
       "      <td>1</td>\n",
       "      <td>0</td>\n",
       "      <td>0</td>\n",
       "    </tr>\n",
       "    <tr>\n",
       "      <th>2</th>\n",
       "      <td>4</td>\n",
       "      <td>offer received</td>\n",
       "      <td>0</td>\n",
       "      <td>9</td>\n",
       "      <td>5</td>\n",
       "      <td>5</td>\n",
       "      <td>5</td>\n",
       "      <td>1</td>\n",
       "      <td>1</td>\n",
       "      <td>1</td>\n",
       "      <td>1</td>\n",
       "      <td>0</td>\n",
       "      <td>1</td>\n",
       "      <td>0</td>\n",
       "    </tr>\n",
       "    <tr>\n",
       "      <th>3</th>\n",
       "      <td>5</td>\n",
       "      <td>offer received</td>\n",
       "      <td>0</td>\n",
       "      <td>3</td>\n",
       "      <td>0</td>\n",
       "      <td>0</td>\n",
       "      <td>4</td>\n",
       "      <td>1</td>\n",
       "      <td>1</td>\n",
       "      <td>1</td>\n",
       "      <td>0</td>\n",
       "      <td>0</td>\n",
       "      <td>0</td>\n",
       "      <td>1</td>\n",
       "    </tr>\n",
       "    <tr>\n",
       "      <th>4</th>\n",
       "      <td>6</td>\n",
       "      <td>offer received</td>\n",
       "      <td>0</td>\n",
       "      <td>5</td>\n",
       "      <td>5</td>\n",
       "      <td>20</td>\n",
       "      <td>10</td>\n",
       "      <td>1</td>\n",
       "      <td>1</td>\n",
       "      <td>0</td>\n",
       "      <td>0</td>\n",
       "      <td>1</td>\n",
       "      <td>0</td>\n",
       "      <td>0</td>\n",
       "    </tr>\n",
       "    <tr>\n",
       "      <th>...</th>\n",
       "      <td>...</td>\n",
       "      <td>...</td>\n",
       "      <td>...</td>\n",
       "      <td>...</td>\n",
       "      <td>...</td>\n",
       "      <td>...</td>\n",
       "      <td>...</td>\n",
       "      <td>...</td>\n",
       "      <td>...</td>\n",
       "      <td>...</td>\n",
       "      <td>...</td>\n",
       "      <td>...</td>\n",
       "      <td>...</td>\n",
       "      <td>...</td>\n",
       "    </tr>\n",
       "    <tr>\n",
       "      <th>130426</th>\n",
       "      <td>14576</td>\n",
       "      <td>offer received</td>\n",
       "      <td>576</td>\n",
       "      <td>1</td>\n",
       "      <td>10</td>\n",
       "      <td>10</td>\n",
       "      <td>7</td>\n",
       "      <td>0</td>\n",
       "      <td>1</td>\n",
       "      <td>1</td>\n",
       "      <td>1</td>\n",
       "      <td>0</td>\n",
       "      <td>1</td>\n",
       "      <td>0</td>\n",
       "    </tr>\n",
       "    <tr>\n",
       "      <th>130427</th>\n",
       "      <td>14608</td>\n",
       "      <td>offer received</td>\n",
       "      <td>576</td>\n",
       "      <td>10</td>\n",
       "      <td>2</td>\n",
       "      <td>10</td>\n",
       "      <td>7</td>\n",
       "      <td>1</td>\n",
       "      <td>1</td>\n",
       "      <td>1</td>\n",
       "      <td>0</td>\n",
       "      <td>1</td>\n",
       "      <td>0</td>\n",
       "      <td>0</td>\n",
       "    </tr>\n",
       "    <tr>\n",
       "      <th>130428</th>\n",
       "      <td>14609</td>\n",
       "      <td>offer received</td>\n",
       "      <td>576</td>\n",
       "      <td>6</td>\n",
       "      <td>3</td>\n",
       "      <td>7</td>\n",
       "      <td>7</td>\n",
       "      <td>1</td>\n",
       "      <td>1</td>\n",
       "      <td>1</td>\n",
       "      <td>1</td>\n",
       "      <td>1</td>\n",
       "      <td>0</td>\n",
       "      <td>0</td>\n",
       "    </tr>\n",
       "    <tr>\n",
       "      <th>130429</th>\n",
       "      <td>14612</td>\n",
       "      <td>offer received</td>\n",
       "      <td>576</td>\n",
       "      <td>1</td>\n",
       "      <td>10</td>\n",
       "      <td>10</td>\n",
       "      <td>7</td>\n",
       "      <td>0</td>\n",
       "      <td>1</td>\n",
       "      <td>1</td>\n",
       "      <td>1</td>\n",
       "      <td>0</td>\n",
       "      <td>1</td>\n",
       "      <td>0</td>\n",
       "    </tr>\n",
       "    <tr>\n",
       "      <th>130430</th>\n",
       "      <td>14613</td>\n",
       "      <td>offer received</td>\n",
       "      <td>576</td>\n",
       "      <td>3</td>\n",
       "      <td>0</td>\n",
       "      <td>0</td>\n",
       "      <td>4</td>\n",
       "      <td>1</td>\n",
       "      <td>1</td>\n",
       "      <td>1</td>\n",
       "      <td>0</td>\n",
       "      <td>0</td>\n",
       "      <td>0</td>\n",
       "      <td>1</td>\n",
       "    </tr>\n",
       "  </tbody>\n",
       "</table>\n",
       "<p>65585 rows × 14 columns</p>\n",
       "</div>"
      ],
      "text/plain": [
       "        customer_id           event  time  offer_id  offered_reward  \\\n",
       "0                 2  offer received     0         4               5   \n",
       "1                 3  offer received     0        10               2   \n",
       "2                 4  offer received     0         9               5   \n",
       "3                 5  offer received     0         3               0   \n",
       "4                 6  offer received     0         5               5   \n",
       "...             ...             ...   ...       ...             ...   \n",
       "130426        14576  offer received   576         1              10   \n",
       "130427        14608  offer received   576        10               2   \n",
       "130428        14609  offer received   576         6               3   \n",
       "130429        14612  offer received   576         1              10   \n",
       "130430        14613  offer received   576         3               0   \n",
       "\n",
       "        difficulty  duration  channel_web  channel_email  channel_mobile  \\\n",
       "0                5         7            1              1               1   \n",
       "1               10         7            1              1               1   \n",
       "2                5         5            1              1               1   \n",
       "3                0         4            1              1               1   \n",
       "4               20        10            1              1               0   \n",
       "...            ...       ...          ...            ...             ...   \n",
       "130426          10         7            0              1               1   \n",
       "130427          10         7            1              1               1   \n",
       "130428           7         7            1              1               1   \n",
       "130429          10         7            0              1               1   \n",
       "130430           0         4            1              1               1   \n",
       "\n",
       "        channel_social  type_discount  type_bogo  type_informational  \n",
       "0                    0              0          1                   0  \n",
       "1                    0              1          0                   0  \n",
       "2                    1              0          1                   0  \n",
       "3                    0              0          0                   1  \n",
       "4                    0              1          0                   0  \n",
       "...                ...            ...        ...                 ...  \n",
       "130426               1              0          1                   0  \n",
       "130427               0              1          0                   0  \n",
       "130428               1              1          0                   0  \n",
       "130429               1              0          1                   0  \n",
       "130430               0              0          0                   1  \n",
       "\n",
       "[65585 rows x 14 columns]"
      ]
     },
     "execution_count": 64,
     "metadata": {},
     "output_type": "execute_result"
    }
   ],
   "source": [
    "temp_df"
   ]
  },
  {
   "cell_type": "markdown",
   "id": "9d95e80a",
   "metadata": {},
   "source": [
    "Since `aux_df` is nothing but a copy of `received_df`. Simply the `event` column which only contains the value ‘offer_recieved’ can be renamed to `offer_recieved` with a value of 1."
   ]
  },
  {
   "cell_type": "code",
   "execution_count": 65,
   "id": "c2d36f4f",
   "metadata": {},
   "outputs": [],
   "source": [
    "# Rename `event` to `offer_received` in `aux_df`\n",
    "temp_df.rename(columns={'event': 'offer_received'}, inplace=True)\n",
    "temp_df.offer_received = 1"
   ]
  },
  {
   "cell_type": "markdown",
   "id": "9368c40d",
   "metadata": {},
   "source": [
    "In `aux_df`, two new columns will serve as the base for all logical tests later. `offer_start_time` which is nothing but the already existing `time` column. Hence, `time` will be renamed to `offer_start_time`. The other one is `offer_end_time` which can be easily obtained by adding the offer `duratin` (in hours) to `offer_start_time`."
   ]
  },
  {
   "cell_type": "code",
   "execution_count": 66,
   "id": "948a68d5",
   "metadata": {},
   "outputs": [],
   "source": [
    "# Rename `time` to `offer_start_time` and add `offer_end_time`\n",
    "temp_df.rename(columns={'time': 'offer_start_time'}, inplace=True)\n",
    "temp_df['offer_end_time'] = temp_df.offer_start_time + temp_df.duration * 24"
   ]
  },
  {
   "cell_type": "markdown",
   "id": "552e38e4",
   "metadata": {},
   "source": [
    "Now that the start and end time for each offer received in `aux_df` are present, a utility function `get_offer_engagements` will be applied along each row. This function takes other dataframes (`viewed_df`, `completed_df`, `transactions_df`) and extract necessary data. The function then returns a list in the form of [`offer_viewed_time`, `offer_completed_time`]. If any was missing or invaild, returns NaN in its corresponding place inside the list. Then, another utility function `expand_list_to_columns` is used to expand the output value returnd into separate columns.\n",
    "\n",
    "It is important here to go over the assumption programmed into the function `get_offer_engagements` for a view or completion time to be valid.\n",
    "\n",
    "An offer is considered _**viewed**_ only if done so after it has been received and during offer's duration. That means the conditions for a valid view time:  \n",
    "1. `offer_viewed_time >= offer_start_time`, and\n",
    "2. `offer_viewed_time <= offer_end_time`\n",
    "    \n",
    "An offer is considered _**completed**_ depending on the offer type:\n",
    "* For bogo and discount offers, `completed_df` dataframe is used extract necessary info. The completion time must be after the time it has been viewed and during offer's duration. That means the conditions for a valid complete time in this case:\n",
    "    1. `offer_completed_time >= offer_viewed_time`, and\n",
    "    2. `offer_completed_time <= offer_end_time`\n",
    "\n",
    "\n",
    "* For informational offers, `transactions_df` is used to extract necessary info. The way completion for informational offers is measured is by checking if the customer has made any transaction after viewing the offer and in offer's duration which assumed earlier to be the period of influence. That means the conditions for a valid complete time in this case:\n",
    "    1. `transaction_time >= offer_viewed_time`, and\n",
    "    2. `transaction_time <= offer_end_time`"
   ]
  },
  {
   "cell_type": "code",
   "execution_count": 67,
   "id": "ea598a83",
   "metadata": {},
   "outputs": [
    {
     "data": {
      "text/plain": [
       "Index(['customer_id', 'offer_received', 'offer_start_time', 'offer_id',\n",
       "       'offered_reward', 'difficulty', 'duration', 'channel_web',\n",
       "       'channel_email', 'channel_mobile', 'channel_social', 'type_discount',\n",
       "       'type_bogo', 'type_informational', 'offer_end_time'],\n",
       "      dtype='object')"
      ]
     },
     "execution_count": 67,
     "metadata": {},
     "output_type": "execute_result"
    }
   ],
   "source": [
    "temp_df.columns"
   ]
  },
  {
   "cell_type": "code",
   "execution_count": 68,
   "id": "6d8634a6",
   "metadata": {},
   "outputs": [
    {
     "name": "stdout",
     "output_type": "stream",
     "text": [
      "Single row processing time: 235.61353206634521 seconds\n"
     ]
    }
   ],
   "source": [
    "import time\n",
    "start = time.time()\n",
    "util.get_offer_engagements(temp_df.iloc[0], viewed_df, completed_df, transactions_df)\n",
    "print(\"Single row processing time:\", (time.time() - start)*65585, \"seconds\")\n",
    "\n"
   ]
  },
  {
   "cell_type": "code",
   "execution_count": 69,
   "id": "15a0fe88",
   "metadata": {},
   "outputs": [
    {
     "data": {
      "text/plain": [
       "65585"
      ]
     },
     "execution_count": 69,
     "metadata": {},
     "output_type": "execute_result"
    }
   ],
   "source": [
    "len(temp_df)"
   ]
  },
  {
   "cell_type": "code",
   "execution_count": 70,
   "id": "f9845a6d",
   "metadata": {},
   "outputs": [],
   "source": [
    "# Add empty object column to store `output_value` list of function\n",
    "temp_df['output_value'] = ''\n",
    "\n",
    "# Apply u.get_offer_engagements to each row\n",
    "temp_df.output_value = temp_df.apply(\n",
    "    lambda x: util.get_offer_engagements(x, viewed_df, completed_df, transactions_df), axis=1)\n",
    "\n"
   ]
  },
  {
   "cell_type": "code",
   "execution_count": 71,
   "id": "7960d289",
   "metadata": {},
   "outputs": [],
   "source": [
    "# Expand `output_value` list to columns\n",
    "temp_df = util.expand_list_to_columns(temp_df, 'output_value', {\n",
    "    0: 'offer_viewed_time',\n",
    "    1: 'offer_completed_time'})"
   ]
  },
  {
   "cell_type": "code",
   "execution_count": 72,
   "id": "6526eb59",
   "metadata": {},
   "outputs": [
    {
     "data": {
      "text/html": [
       "<div>\n",
       "<style scoped>\n",
       "    .dataframe tbody tr th:only-of-type {\n",
       "        vertical-align: middle;\n",
       "    }\n",
       "\n",
       "    .dataframe tbody tr th {\n",
       "        vertical-align: top;\n",
       "    }\n",
       "\n",
       "    .dataframe thead th {\n",
       "        text-align: right;\n",
       "    }\n",
       "</style>\n",
       "<table border=\"1\" class=\"dataframe\">\n",
       "  <thead>\n",
       "    <tr style=\"text-align: right;\">\n",
       "      <th></th>\n",
       "      <th>offer_start_time</th>\n",
       "      <th>offer_end_time</th>\n",
       "      <th>offer_viewed_time</th>\n",
       "      <th>offer_completed_time</th>\n",
       "    </tr>\n",
       "  </thead>\n",
       "  <tbody>\n",
       "    <tr>\n",
       "      <th>0</th>\n",
       "      <td>0</td>\n",
       "      <td>168</td>\n",
       "      <td>6.0</td>\n",
       "      <td>132.0</td>\n",
       "    </tr>\n",
       "    <tr>\n",
       "      <th>1</th>\n",
       "      <td>0</td>\n",
       "      <td>168</td>\n",
       "      <td>18.0</td>\n",
       "      <td>NaN</td>\n",
       "    </tr>\n",
       "    <tr>\n",
       "      <th>2</th>\n",
       "      <td>0</td>\n",
       "      <td>120</td>\n",
       "      <td>0.0</td>\n",
       "      <td>60.0</td>\n",
       "    </tr>\n",
       "    <tr>\n",
       "      <th>3</th>\n",
       "      <td>0</td>\n",
       "      <td>96</td>\n",
       "      <td>NaN</td>\n",
       "      <td>NaN</td>\n",
       "    </tr>\n",
       "    <tr>\n",
       "      <th>4</th>\n",
       "      <td>0</td>\n",
       "      <td>240</td>\n",
       "      <td>18.0</td>\n",
       "      <td>NaN</td>\n",
       "    </tr>\n",
       "    <tr>\n",
       "      <th>5</th>\n",
       "      <td>0</td>\n",
       "      <td>240</td>\n",
       "      <td>150.0</td>\n",
       "      <td>NaN</td>\n",
       "    </tr>\n",
       "    <tr>\n",
       "      <th>6</th>\n",
       "      <td>0</td>\n",
       "      <td>168</td>\n",
       "      <td>102.0</td>\n",
       "      <td>NaN</td>\n",
       "    </tr>\n",
       "    <tr>\n",
       "      <th>7</th>\n",
       "      <td>0</td>\n",
       "      <td>96</td>\n",
       "      <td>18.0</td>\n",
       "      <td>18.0</td>\n",
       "    </tr>\n",
       "    <tr>\n",
       "      <th>8</th>\n",
       "      <td>0</td>\n",
       "      <td>240</td>\n",
       "      <td>30.0</td>\n",
       "      <td>30.0</td>\n",
       "    </tr>\n",
       "    <tr>\n",
       "      <th>9</th>\n",
       "      <td>0</td>\n",
       "      <td>240</td>\n",
       "      <td>18.0</td>\n",
       "      <td>126.0</td>\n",
       "    </tr>\n",
       "    <tr>\n",
       "      <th>10</th>\n",
       "      <td>0</td>\n",
       "      <td>240</td>\n",
       "      <td>30.0</td>\n",
       "      <td>192.0</td>\n",
       "    </tr>\n",
       "    <tr>\n",
       "      <th>11</th>\n",
       "      <td>0</td>\n",
       "      <td>168</td>\n",
       "      <td>NaN</td>\n",
       "      <td>NaN</td>\n",
       "    </tr>\n",
       "    <tr>\n",
       "      <th>12</th>\n",
       "      <td>0</td>\n",
       "      <td>168</td>\n",
       "      <td>96.0</td>\n",
       "      <td>NaN</td>\n",
       "    </tr>\n",
       "    <tr>\n",
       "      <th>13</th>\n",
       "      <td>0</td>\n",
       "      <td>168</td>\n",
       "      <td>NaN</td>\n",
       "      <td>NaN</td>\n",
       "    </tr>\n",
       "    <tr>\n",
       "      <th>14</th>\n",
       "      <td>0</td>\n",
       "      <td>168</td>\n",
       "      <td>48.0</td>\n",
       "      <td>NaN</td>\n",
       "    </tr>\n",
       "  </tbody>\n",
       "</table>\n",
       "</div>"
      ],
      "text/plain": [
       "    offer_start_time  offer_end_time  offer_viewed_time  offer_completed_time\n",
       "0                  0             168                6.0                 132.0\n",
       "1                  0             168               18.0                   NaN\n",
       "2                  0             120                0.0                  60.0\n",
       "3                  0              96                NaN                   NaN\n",
       "4                  0             240               18.0                   NaN\n",
       "5                  0             240              150.0                   NaN\n",
       "6                  0             168              102.0                   NaN\n",
       "7                  0              96               18.0                  18.0\n",
       "8                  0             240               30.0                  30.0\n",
       "9                  0             240               18.0                 126.0\n",
       "10                 0             240               30.0                 192.0\n",
       "11                 0             168                NaN                   NaN\n",
       "12                 0             168               96.0                   NaN\n",
       "13                 0             168                NaN                   NaN\n",
       "14                 0             168               48.0                   NaN"
      ]
     },
     "execution_count": 72,
     "metadata": {},
     "output_type": "execute_result"
    }
   ],
   "source": [
    "temp_df[['offer_start_time', 'offer_end_time', 'offer_viewed_time', 'offer_completed_time']].head(15)"
   ]
  },
  {
   "cell_type": "markdown",
   "id": "ef9d63ea",
   "metadata": {},
   "source": [
    "One feature that will be added is `response_score` which measures how fast a customer responded to an offer once viewed. The score is normalized using offer's duration and range from 0 to 1. The higher the score, the faster responsivity to an offer."
   ]
  },
  {
   "cell_type": "code",
   "execution_count": 73,
   "id": "578137c1",
   "metadata": {},
   "outputs": [],
   "source": [
    "# Add `response_score` column\n",
    "\n",
    "temp_df['response_score'] = (\n",
    "    temp_df.offer_completed_time -\n",
    "    temp_df.offer_viewed_time).apply(\n",
    "    lambda x: x if x >= 0 else np.nan)\n",
    "\n",
    "temp_df.response_score = np.round(((\n",
    "    (temp_df.duration * 24) - temp_df.response_score) /\n",
    "    (temp_df.duration * 24)), 2).fillna(0)"
   ]
  },
  {
   "cell_type": "code",
   "execution_count": 74,
   "id": "2897a669",
   "metadata": {},
   "outputs": [
    {
     "data": {
      "text/html": [
       "<div>\n",
       "<style scoped>\n",
       "    .dataframe tbody tr th:only-of-type {\n",
       "        vertical-align: middle;\n",
       "    }\n",
       "\n",
       "    .dataframe tbody tr th {\n",
       "        vertical-align: top;\n",
       "    }\n",
       "\n",
       "    .dataframe thead th {\n",
       "        text-align: right;\n",
       "    }\n",
       "</style>\n",
       "<table border=\"1\" class=\"dataframe\">\n",
       "  <thead>\n",
       "    <tr style=\"text-align: right;\">\n",
       "      <th></th>\n",
       "      <th>offer_viewed_time</th>\n",
       "      <th>offer_completed_time</th>\n",
       "      <th>response_score</th>\n",
       "    </tr>\n",
       "  </thead>\n",
       "  <tbody>\n",
       "    <tr>\n",
       "      <th>0</th>\n",
       "      <td>6.0</td>\n",
       "      <td>132.0</td>\n",
       "      <td>0.25</td>\n",
       "    </tr>\n",
       "    <tr>\n",
       "      <th>1</th>\n",
       "      <td>18.0</td>\n",
       "      <td>NaN</td>\n",
       "      <td>0.00</td>\n",
       "    </tr>\n",
       "    <tr>\n",
       "      <th>2</th>\n",
       "      <td>0.0</td>\n",
       "      <td>60.0</td>\n",
       "      <td>0.50</td>\n",
       "    </tr>\n",
       "    <tr>\n",
       "      <th>3</th>\n",
       "      <td>NaN</td>\n",
       "      <td>NaN</td>\n",
       "      <td>0.00</td>\n",
       "    </tr>\n",
       "    <tr>\n",
       "      <th>4</th>\n",
       "      <td>18.0</td>\n",
       "      <td>NaN</td>\n",
       "      <td>0.00</td>\n",
       "    </tr>\n",
       "    <tr>\n",
       "      <th>5</th>\n",
       "      <td>150.0</td>\n",
       "      <td>NaN</td>\n",
       "      <td>0.00</td>\n",
       "    </tr>\n",
       "    <tr>\n",
       "      <th>6</th>\n",
       "      <td>102.0</td>\n",
       "      <td>NaN</td>\n",
       "      <td>0.00</td>\n",
       "    </tr>\n",
       "    <tr>\n",
       "      <th>7</th>\n",
       "      <td>18.0</td>\n",
       "      <td>18.0</td>\n",
       "      <td>1.00</td>\n",
       "    </tr>\n",
       "    <tr>\n",
       "      <th>8</th>\n",
       "      <td>30.0</td>\n",
       "      <td>30.0</td>\n",
       "      <td>1.00</td>\n",
       "    </tr>\n",
       "    <tr>\n",
       "      <th>9</th>\n",
       "      <td>18.0</td>\n",
       "      <td>126.0</td>\n",
       "      <td>0.55</td>\n",
       "    </tr>\n",
       "    <tr>\n",
       "      <th>10</th>\n",
       "      <td>30.0</td>\n",
       "      <td>192.0</td>\n",
       "      <td>0.32</td>\n",
       "    </tr>\n",
       "    <tr>\n",
       "      <th>11</th>\n",
       "      <td>NaN</td>\n",
       "      <td>NaN</td>\n",
       "      <td>0.00</td>\n",
       "    </tr>\n",
       "    <tr>\n",
       "      <th>12</th>\n",
       "      <td>96.0</td>\n",
       "      <td>NaN</td>\n",
       "      <td>0.00</td>\n",
       "    </tr>\n",
       "    <tr>\n",
       "      <th>13</th>\n",
       "      <td>NaN</td>\n",
       "      <td>NaN</td>\n",
       "      <td>0.00</td>\n",
       "    </tr>\n",
       "    <tr>\n",
       "      <th>14</th>\n",
       "      <td>48.0</td>\n",
       "      <td>NaN</td>\n",
       "      <td>0.00</td>\n",
       "    </tr>\n",
       "  </tbody>\n",
       "</table>\n",
       "</div>"
      ],
      "text/plain": [
       "    offer_viewed_time  offer_completed_time  response_score\n",
       "0                 6.0                 132.0            0.25\n",
       "1                18.0                   NaN            0.00\n",
       "2                 0.0                  60.0            0.50\n",
       "3                 NaN                   NaN            0.00\n",
       "4                18.0                   NaN            0.00\n",
       "5               150.0                   NaN            0.00\n",
       "6               102.0                   NaN            0.00\n",
       "7                18.0                  18.0            1.00\n",
       "8                30.0                  30.0            1.00\n",
       "9                18.0                 126.0            0.55\n",
       "10               30.0                 192.0            0.32\n",
       "11                NaN                   NaN            0.00\n",
       "12               96.0                   NaN            0.00\n",
       "13                NaN                   NaN            0.00\n",
       "14               48.0                   NaN            0.00"
      ]
     },
     "execution_count": 74,
     "metadata": {},
     "output_type": "execute_result"
    }
   ],
   "source": [
    "temp_df[['offer_viewed_time', 'offer_completed_time', 'response_score']].head(15)\n"
   ]
  },
  {
   "cell_type": "code",
   "execution_count": 75,
   "id": "94c255f7",
   "metadata": {},
   "outputs": [
    {
     "data": {
      "image/png": "[encoded data removed]",
      "text/plain": [
       "<Figure size 640x480 with 1 Axes>"
      ]
     },
     "metadata": {},
     "output_type": "display_data"
    }
   ],
   "source": [
    "temp_df.response_score.hist();\n"
   ]
  },
  {
   "cell_type": "markdown",
   "id": "8bd1576a",
   "metadata": {},
   "source": [
    "Since the view and compeltion time is now present, two new columns `offer_viewed` and `offer_completed` with binery values will be added.\n"
   ]
  },
  {
   "cell_type": "code",
   "execution_count": 76,
   "id": "411963b8",
   "metadata": {},
   "outputs": [],
   "source": [
    "# Add `offer_viewed` and `offer_completed` columns with binery values\n",
    "temp_df['offer_viewed'] = temp_df.offer_viewed_time.apply(lambda x: 0 if pd.isnull(x) else 1)\n",
    "temp_df['offer_completed'] = temp_df.offer_completed_time.apply(lambda x: 0 if pd.isnull(x) else 1)\n"
   ]
  },
  {
   "cell_type": "code",
   "execution_count": 77,
   "id": "3518eb07",
   "metadata": {},
   "outputs": [
    {
     "data": {
      "text/html": [
       "<div>\n",
       "<style scoped>\n",
       "    .dataframe tbody tr th:only-of-type {\n",
       "        vertical-align: middle;\n",
       "    }\n",
       "\n",
       "    .dataframe tbody tr th {\n",
       "        vertical-align: top;\n",
       "    }\n",
       "\n",
       "    .dataframe thead th {\n",
       "        text-align: right;\n",
       "    }\n",
       "</style>\n",
       "<table border=\"1\" class=\"dataframe\">\n",
       "  <thead>\n",
       "    <tr style=\"text-align: right;\">\n",
       "      <th></th>\n",
       "      <th>offer_viewed_time</th>\n",
       "      <th>offer_completed_time</th>\n",
       "      <th>offer_viewed</th>\n",
       "      <th>offer_completed</th>\n",
       "    </tr>\n",
       "  </thead>\n",
       "  <tbody>\n",
       "    <tr>\n",
       "      <th>0</th>\n",
       "      <td>6.0</td>\n",
       "      <td>132.0</td>\n",
       "      <td>1</td>\n",
       "      <td>1</td>\n",
       "    </tr>\n",
       "    <tr>\n",
       "      <th>1</th>\n",
       "      <td>18.0</td>\n",
       "      <td>NaN</td>\n",
       "      <td>1</td>\n",
       "      <td>0</td>\n",
       "    </tr>\n",
       "    <tr>\n",
       "      <th>2</th>\n",
       "      <td>0.0</td>\n",
       "      <td>60.0</td>\n",
       "      <td>1</td>\n",
       "      <td>1</td>\n",
       "    </tr>\n",
       "    <tr>\n",
       "      <th>3</th>\n",
       "      <td>NaN</td>\n",
       "      <td>NaN</td>\n",
       "      <td>0</td>\n",
       "      <td>0</td>\n",
       "    </tr>\n",
       "    <tr>\n",
       "      <th>4</th>\n",
       "      <td>18.0</td>\n",
       "      <td>NaN</td>\n",
       "      <td>1</td>\n",
       "      <td>0</td>\n",
       "    </tr>\n",
       "  </tbody>\n",
       "</table>\n",
       "</div>"
      ],
      "text/plain": [
       "   offer_viewed_time  offer_completed_time  offer_viewed  offer_completed\n",
       "0                6.0                 132.0             1                1\n",
       "1               18.0                   NaN             1                0\n",
       "2                0.0                  60.0             1                1\n",
       "3                NaN                   NaN             0                0\n",
       "4               18.0                   NaN             1                0"
      ]
     },
     "execution_count": 77,
     "metadata": {},
     "output_type": "execute_result"
    }
   ],
   "source": [
    "\n",
    "temp_df[['offer_viewed_time', 'offer_completed_time', 'offer_viewed', 'offer_completed']].head()\n"
   ]
  },
  {
   "cell_type": "markdown",
   "id": "40b68e9b",
   "metadata": {},
   "source": [
    "New `redeemed_reward` columns is added by simply multiplying `offered_reward` by `offer_completed`."
   ]
  },
  {
   "cell_type": "code",
   "execution_count": 78,
   "id": "9f29198d",
   "metadata": {},
   "outputs": [],
   "source": [
    "# Add `redeemed_reward` columns\n",
    "temp_df['redeemed_reward'] = temp_df.offered_reward * temp_df.offer_completed"
   ]
  },
  {
   "cell_type": "markdown",
   "id": "f231cde1",
   "metadata": {},
   "source": [
    "To make things clean, three temprary (dummy) dataframes are created. Named `alpha_df`, `beta_df`, and `gamma_df`. In the first two, selection of columns are used and aggregated by sum and mean respectively. In the last, utility function `split_columns_by_offer_type` is used on a selection of columns to aggregate data by offer type."
   ]
  },
  {
   "cell_type": "code",
   "execution_count": 79,
   "id": "7ee2df8d",
   "metadata": {},
   "outputs": [],
   "source": [
    "# Create dummy dataframes each with different selection of columns and aggregator\n",
    "\n",
    "alpha_df = temp_df[[\n",
    "    'customer_id',\n",
    "    'offer_received',\n",
    "    'offer_viewed',\n",
    "    'offer_completed',\n",
    "    'channel_web',\n",
    "    'channel_email',\n",
    "    'channel_mobile',\n",
    "    'channel_social',\n",
    "    ]].groupby('customer_id', as_index=True).sum().fillna(0)\n",
    "\n",
    "beta_df = temp_df[[\n",
    "    'customer_id',\n",
    "    'difficulty',\n",
    "    'duration',\n",
    "    'offered_reward',\n",
    "    'redeemed_reward',\n",
    "    'response_score',\n",
    "    ]].groupby('customer_id', as_index=True).mean().fillna(0)\n",
    "\n",
    "gamma_df = util.split_columns_by_offer_type(temp_df, [\n",
    "    'offer_received',\n",
    "    'offer_viewed',\n",
    "    'offer_completed',\n",
    "    'response_score',\n",
    "    ])"
   ]
  },
  {
   "cell_type": "markdown",
   "id": "ca368b36",
   "metadata": {},
   "source": [
    "Now, creating the final datframe `coe` which will be used for modeling by megring the above dataframes `alpha_df`, `beta_df`, and `gamma_df` to `profile`.\n"
   ]
  },
  {
   "cell_type": "code",
   "execution_count": 80,
   "id": "0277ae76",
   "metadata": {},
   "outputs": [],
   "source": [
    "# Create the final dataset `coe`\n",
    "coe = pd.merge(profile.set_index('customer_id'), alpha_df, left_index=True, right_index=True)\n",
    "coe = pd.merge(coe, beta_df, left_index=True, right_index=True)\n",
    "coe = pd.merge(coe, gamma_df, left_index=True, right_index=True)\n",
    "\n",
    "coe.reset_index(inplace=True)"
   ]
  },
  {
   "cell_type": "markdown",
   "id": "8e6f2d79",
   "metadata": {},
   "source": [
    "In this step below, sets of new features will be added using utility function `get_transactions_allotment` that will be helpful in measuring the two main points discussed in _problem statement_. The nomenclature for these features is as follows:\n",
    "\n",
    "* Prefixes\n",
    "    * `txn_`: Count of transactions.\n",
    "    * `amt_`: Sum of amount.\n",
    "    * `recency_`: Time of most recent transaction.\n",
    "    * `frequency_`: Average time in hours between transactions.\n",
    "    * `monetary_`: Average amount per transaction.\n",
    "* Suffixes\n",
    "    * `_overall`: Anytime during the test period.\n",
    "    * `_promo`: During offer durations (regardless of view or completion).\n",
    "    * `_nonpromo`: In-between (outside) offers durations\n",
    "\n",
    "The set of `frequency_`, `recency_`, and `monetary_` features is necessary to calculate the RFM score. This [article](https://clevertap.com/blog/rfm-analysis/) was a nice guide in doing so."
   ]
  },
  {
   "cell_type": "code",
   "execution_count": 81,
   "id": "f597a54d",
   "metadata": {},
   "outputs": [
    {
     "ename": "AttributeError",
     "evalue": "`np.NaN` was removed in the NumPy 2.0 release. Use `np.nan` instead.",
     "output_type": "error",
     "traceback": [
      "\u001b[31m---------------------------------------------------------------------------\u001b[39m",
      "\u001b[31mAttributeError\u001b[39m                            Traceback (most recent call last)",
      "\u001b[36mCell\u001b[39m\u001b[36m \u001b[39m\u001b[32mIn[81]\u001b[39m\u001b[32m, line 5\u001b[39m\n\u001b[32m      2\u001b[39m coe[\u001b[33m'\u001b[39m\u001b[33moutput_value\u001b[39m\u001b[33m'\u001b[39m] = \u001b[33m'\u001b[39m\u001b[33m'\u001b[39m\n\u001b[32m      4\u001b[39m \u001b[38;5;66;03m# Apply u.get_transactions_allotment to each row\u001b[39;00m\n\u001b[32m----> \u001b[39m\u001b[32m5\u001b[39m coe.output_value = \u001b[43mcoe\u001b[49m\u001b[43m.\u001b[49m\u001b[43mapply\u001b[49m\u001b[43m(\u001b[49m\n\u001b[32m      6\u001b[39m \u001b[43m    \u001b[49m\u001b[38;5;28;43;01mlambda\u001b[39;49;00m\u001b[43m \u001b[49m\u001b[43mx\u001b[49m\u001b[43m:\u001b[49m\u001b[43m \u001b[49m\u001b[43mutil\u001b[49m\u001b[43m.\u001b[49m\u001b[43mget_transactions_allotment\u001b[49m\u001b[43m(\u001b[49m\u001b[43mx\u001b[49m\u001b[43m,\u001b[49m\u001b[43m \u001b[49m\u001b[43mtemp_df\u001b[49m\u001b[43m,\u001b[49m\u001b[43m \u001b[49m\u001b[43mtransactions_df\u001b[49m\u001b[43m)\u001b[49m\u001b[43m,\u001b[49m\u001b[43m \u001b[49m\u001b[43maxis\u001b[49m\u001b[43m=\u001b[49m\u001b[32;43m1\u001b[39;49m\u001b[43m)\u001b[49m\n\u001b[32m      8\u001b[39m \u001b[38;5;66;03m# Expand `output_value` list to columns\u001b[39;00m\n\u001b[32m      9\u001b[39m coe = util.expand_list_to_columns(coe, \u001b[33m'\u001b[39m\u001b[33moutput_value\u001b[39m\u001b[33m'\u001b[39m, {\n\u001b[32m     10\u001b[39m     \u001b[32m0\u001b[39m: \u001b[33m'\u001b[39m\u001b[33mtxn_overall\u001b[39m\u001b[33m'\u001b[39m,\n\u001b[32m     11\u001b[39m     \u001b[32m1\u001b[39m: \u001b[33m'\u001b[39m\u001b[33mamt_overall\u001b[39m\u001b[33m'\u001b[39m,\n\u001b[32m   (...)\u001b[39m\u001b[32m     16\u001b[39m     \u001b[32m6\u001b[39m: \u001b[33m'\u001b[39m\u001b[33mrecency_promo\u001b[39m\u001b[33m'\u001b[39m,\n\u001b[32m     17\u001b[39m     \u001b[32m7\u001b[39m: \u001b[33m'\u001b[39m\u001b[33mrecency_nonpromo\u001b[39m\u001b[33m'\u001b[39m})\n",
      "\u001b[36mFile \u001b[39m\u001b[32mc:\\Users\\Kavin\\AppData\\Local\\Programs\\Python\\Python313\\Lib\\site-packages\\pandas\\core\\frame.py:10381\u001b[39m, in \u001b[36mDataFrame.apply\u001b[39m\u001b[34m(self, func, axis, raw, result_type, args, by_row, engine, engine_kwargs, **kwargs)\u001b[39m\n\u001b[32m  10367\u001b[39m \u001b[38;5;28;01mfrom\u001b[39;00m\u001b[38;5;250m \u001b[39m\u001b[34;01mpandas\u001b[39;00m\u001b[34;01m.\u001b[39;00m\u001b[34;01mcore\u001b[39;00m\u001b[34;01m.\u001b[39;00m\u001b[34;01mapply\u001b[39;00m\u001b[38;5;250m \u001b[39m\u001b[38;5;28;01mimport\u001b[39;00m frame_apply\n\u001b[32m  10369\u001b[39m op = frame_apply(\n\u001b[32m  10370\u001b[39m     \u001b[38;5;28mself\u001b[39m,\n\u001b[32m  10371\u001b[39m     func=func,\n\u001b[32m   (...)\u001b[39m\u001b[32m  10379\u001b[39m     kwargs=kwargs,\n\u001b[32m  10380\u001b[39m )\n\u001b[32m> \u001b[39m\u001b[32m10381\u001b[39m \u001b[38;5;28;01mreturn\u001b[39;00m \u001b[43mop\u001b[49m\u001b[43m.\u001b[49m\u001b[43mapply\u001b[49m\u001b[43m(\u001b[49m\u001b[43m)\u001b[49m.__finalize__(\u001b[38;5;28mself\u001b[39m, method=\u001b[33m\"\u001b[39m\u001b[33mapply\u001b[39m\u001b[33m\"\u001b[39m)\n",
      "\u001b[36mFile \u001b[39m\u001b[32mc:\\Users\\Kavin\\AppData\\Local\\Programs\\Python\\Python313\\Lib\\site-packages\\pandas\\core\\apply.py:916\u001b[39m, in \u001b[36mFrameApply.apply\u001b[39m\u001b[34m(self)\u001b[39m\n\u001b[32m    913\u001b[39m \u001b[38;5;28;01melif\u001b[39;00m \u001b[38;5;28mself\u001b[39m.raw:\n\u001b[32m    914\u001b[39m     \u001b[38;5;28;01mreturn\u001b[39;00m \u001b[38;5;28mself\u001b[39m.apply_raw(engine=\u001b[38;5;28mself\u001b[39m.engine, engine_kwargs=\u001b[38;5;28mself\u001b[39m.engine_kwargs)\n\u001b[32m--> \u001b[39m\u001b[32m916\u001b[39m \u001b[38;5;28;01mreturn\u001b[39;00m \u001b[38;5;28;43mself\u001b[39;49m\u001b[43m.\u001b[49m\u001b[43mapply_standard\u001b[49m\u001b[43m(\u001b[49m\u001b[43m)\u001b[49m\n",
      "\u001b[36mFile \u001b[39m\u001b[32mc:\\Users\\Kavin\\AppData\\Local\\Programs\\Python\\Python313\\Lib\\site-packages\\pandas\\core\\apply.py:1063\u001b[39m, in \u001b[36mFrameApply.apply_standard\u001b[39m\u001b[34m(self)\u001b[39m\n\u001b[32m   1061\u001b[39m \u001b[38;5;28;01mdef\u001b[39;00m\u001b[38;5;250m \u001b[39m\u001b[34mapply_standard\u001b[39m(\u001b[38;5;28mself\u001b[39m):\n\u001b[32m   1062\u001b[39m     \u001b[38;5;28;01mif\u001b[39;00m \u001b[38;5;28mself\u001b[39m.engine == \u001b[33m\"\u001b[39m\u001b[33mpython\u001b[39m\u001b[33m\"\u001b[39m:\n\u001b[32m-> \u001b[39m\u001b[32m1063\u001b[39m         results, res_index = \u001b[38;5;28;43mself\u001b[39;49m\u001b[43m.\u001b[49m\u001b[43mapply_series_generator\u001b[49m\u001b[43m(\u001b[49m\u001b[43m)\u001b[49m\n\u001b[32m   1064\u001b[39m     \u001b[38;5;28;01melse\u001b[39;00m:\n\u001b[32m   1065\u001b[39m         results, res_index = \u001b[38;5;28mself\u001b[39m.apply_series_numba()\n",
      "\u001b[36mFile \u001b[39m\u001b[32mc:\\Users\\Kavin\\AppData\\Local\\Programs\\Python\\Python313\\Lib\\site-packages\\pandas\\core\\apply.py:1081\u001b[39m, in \u001b[36mFrameApply.apply_series_generator\u001b[39m\u001b[34m(self)\u001b[39m\n\u001b[32m   1078\u001b[39m \u001b[38;5;28;01mwith\u001b[39;00m option_context(\u001b[33m\"\u001b[39m\u001b[33mmode.chained_assignment\u001b[39m\u001b[33m\"\u001b[39m, \u001b[38;5;28;01mNone\u001b[39;00m):\n\u001b[32m   1079\u001b[39m     \u001b[38;5;28;01mfor\u001b[39;00m i, v \u001b[38;5;129;01min\u001b[39;00m \u001b[38;5;28menumerate\u001b[39m(series_gen):\n\u001b[32m   1080\u001b[39m         \u001b[38;5;66;03m# ignore SettingWithCopy here in case the user mutates\u001b[39;00m\n\u001b[32m-> \u001b[39m\u001b[32m1081\u001b[39m         results[i] = \u001b[38;5;28;43mself\u001b[39;49m\u001b[43m.\u001b[49m\u001b[43mfunc\u001b[49m\u001b[43m(\u001b[49m\u001b[43mv\u001b[49m\u001b[43m,\u001b[49m\u001b[43m \u001b[49m\u001b[43m*\u001b[49m\u001b[38;5;28;43mself\u001b[39;49m\u001b[43m.\u001b[49m\u001b[43margs\u001b[49m\u001b[43m,\u001b[49m\u001b[43m \u001b[49m\u001b[43m*\u001b[49m\u001b[43m*\u001b[49m\u001b[38;5;28;43mself\u001b[39;49m\u001b[43m.\u001b[49m\u001b[43mkwargs\u001b[49m\u001b[43m)\u001b[49m\n\u001b[32m   1082\u001b[39m         \u001b[38;5;28;01mif\u001b[39;00m \u001b[38;5;28misinstance\u001b[39m(results[i], ABCSeries):\n\u001b[32m   1083\u001b[39m             \u001b[38;5;66;03m# If we have a view on v, we need to make a copy because\u001b[39;00m\n\u001b[32m   1084\u001b[39m             \u001b[38;5;66;03m#  series_generator will swap out the underlying data\u001b[39;00m\n\u001b[32m   1085\u001b[39m             results[i] = results[i].copy(deep=\u001b[38;5;28;01mFalse\u001b[39;00m)\n",
      "\u001b[36mCell\u001b[39m\u001b[36m \u001b[39m\u001b[32mIn[81]\u001b[39m\u001b[32m, line 6\u001b[39m, in \u001b[36m<lambda>\u001b[39m\u001b[34m(x)\u001b[39m\n\u001b[32m      2\u001b[39m coe[\u001b[33m'\u001b[39m\u001b[33moutput_value\u001b[39m\u001b[33m'\u001b[39m] = \u001b[33m'\u001b[39m\u001b[33m'\u001b[39m\n\u001b[32m      4\u001b[39m \u001b[38;5;66;03m# Apply u.get_transactions_allotment to each row\u001b[39;00m\n\u001b[32m      5\u001b[39m coe.output_value = coe.apply(\n\u001b[32m----> \u001b[39m\u001b[32m6\u001b[39m     \u001b[38;5;28;01mlambda\u001b[39;00m x: \u001b[43mutil\u001b[49m\u001b[43m.\u001b[49m\u001b[43mget_transactions_allotment\u001b[49m\u001b[43m(\u001b[49m\u001b[43mx\u001b[49m\u001b[43m,\u001b[49m\u001b[43m \u001b[49m\u001b[43mtemp_df\u001b[49m\u001b[43m,\u001b[49m\u001b[43m \u001b[49m\u001b[43mtransactions_df\u001b[49m\u001b[43m)\u001b[49m, axis=\u001b[32m1\u001b[39m)\n\u001b[32m      8\u001b[39m \u001b[38;5;66;03m# Expand `output_value` list to columns\u001b[39;00m\n\u001b[32m      9\u001b[39m coe = util.expand_list_to_columns(coe, \u001b[33m'\u001b[39m\u001b[33moutput_value\u001b[39m\u001b[33m'\u001b[39m, {\n\u001b[32m     10\u001b[39m     \u001b[32m0\u001b[39m: \u001b[33m'\u001b[39m\u001b[33mtxn_overall\u001b[39m\u001b[33m'\u001b[39m,\n\u001b[32m     11\u001b[39m     \u001b[32m1\u001b[39m: \u001b[33m'\u001b[39m\u001b[33mamt_overall\u001b[39m\u001b[33m'\u001b[39m,\n\u001b[32m   (...)\u001b[39m\u001b[32m     16\u001b[39m     \u001b[32m6\u001b[39m: \u001b[33m'\u001b[39m\u001b[33mrecency_promo\u001b[39m\u001b[33m'\u001b[39m,\n\u001b[32m     17\u001b[39m     \u001b[32m7\u001b[39m: \u001b[33m'\u001b[39m\u001b[33mrecency_nonpromo\u001b[39m\u001b[33m'\u001b[39m})\n",
      "\u001b[36mFile \u001b[39m\u001b[32mc:\\Users\\Kavin\\OneDrive\\Desktop\\Starbucks_Segmentation\\Starbucks-segmentation\\utilities.py:400\u001b[39m, in \u001b[36mget_transactions_allotment\u001b[39m\u001b[34m(df, aux_df, transactions_df)\u001b[39m\n\u001b[32m    397\u001b[39m recency_promo = np.NaN \u001b[38;5;28;01mif\u001b[39;00m \u001b[38;5;129;01mnot\u001b[39;00m promo \u001b[38;5;28;01melse\u001b[39;00m promo[-\u001b[32m1\u001b[39m][\u001b[32m0\u001b[39m]\n\u001b[32m    399\u001b[39m \u001b[38;5;66;03m# Get recency_nonpromo: time of most recent nonpromo transaction\u001b[39;00m\n\u001b[32m--> \u001b[39m\u001b[32m400\u001b[39m recency_nonpromo = \u001b[43mnp\u001b[49m\u001b[43m.\u001b[49m\u001b[43mNaN\u001b[49m \u001b[38;5;28;01mif\u001b[39;00m \u001b[38;5;129;01mnot\u001b[39;00m nonpromo \u001b[38;5;28;01melse\u001b[39;00m nonpromo[-\u001b[32m1\u001b[39m][\u001b[32m0\u001b[39m]\n\u001b[32m    403\u001b[39m \u001b[38;5;66;03m# Create return object\u001b[39;00m\n\u001b[32m    404\u001b[39m output_value = [txn_overall, amt_overall,\n\u001b[32m    405\u001b[39m                 txn_promo, amt_promo,\n\u001b[32m    406\u001b[39m                 txn_nonpromo, amt_nonpromo,\n\u001b[32m    407\u001b[39m                 recency_promo, recency_nonpromo]\n",
      "\u001b[36mFile \u001b[39m\u001b[32mc:\\Users\\Kavin\\AppData\\Local\\Programs\\Python\\Python313\\Lib\\site-packages\\numpy\\__init__.py:794\u001b[39m, in \u001b[36m__getattr__\u001b[39m\u001b[34m(attr)\u001b[39m\n\u001b[32m    791\u001b[39m     \u001b[38;5;28;01mraise\u001b[39;00m \u001b[38;5;167;01mAttributeError\u001b[39;00m(__former_attrs__[attr], name=\u001b[38;5;28;01mNone\u001b[39;00m)\n\u001b[32m    793\u001b[39m \u001b[38;5;28;01mif\u001b[39;00m attr \u001b[38;5;129;01min\u001b[39;00m __expired_attributes__:\n\u001b[32m--> \u001b[39m\u001b[32m794\u001b[39m     \u001b[38;5;28;01mraise\u001b[39;00m \u001b[38;5;167;01mAttributeError\u001b[39;00m(\n\u001b[32m    795\u001b[39m         \u001b[33mf\u001b[39m\u001b[33m\"\u001b[39m\u001b[33m`np.\u001b[39m\u001b[38;5;132;01m{\u001b[39;00mattr\u001b[38;5;132;01m}\u001b[39;00m\u001b[33m` was removed in the NumPy 2.0 release. \u001b[39m\u001b[33m\"\u001b[39m\n\u001b[32m    796\u001b[39m         \u001b[33mf\u001b[39m\u001b[33m\"\u001b[39m\u001b[38;5;132;01m{\u001b[39;00m__expired_attributes__[attr]\u001b[38;5;132;01m}\u001b[39;00m\u001b[33m\"\u001b[39m,\n\u001b[32m    797\u001b[39m         name=\u001b[38;5;28;01mNone\u001b[39;00m\n\u001b[32m    798\u001b[39m     )\n\u001b[32m    800\u001b[39m \u001b[38;5;28;01mif\u001b[39;00m attr == \u001b[33m\"\u001b[39m\u001b[33mchararray\u001b[39m\u001b[33m\"\u001b[39m:\n\u001b[32m    801\u001b[39m     warnings.warn(\n\u001b[32m    802\u001b[39m         \u001b[33m\"\u001b[39m\u001b[33m`np.chararray` is deprecated and will be removed from \u001b[39m\u001b[33m\"\u001b[39m\n\u001b[32m    803\u001b[39m         \u001b[33m\"\u001b[39m\u001b[33mthe main namespace in the future. Use an array with a string \u001b[39m\u001b[33m\"\u001b[39m\n\u001b[32m    804\u001b[39m         \u001b[33m\"\u001b[39m\u001b[33mor bytes dtype instead.\u001b[39m\u001b[33m\"\u001b[39m, \u001b[38;5;167;01mDeprecationWarning\u001b[39;00m, stacklevel=\u001b[32m2\u001b[39m)\n",
      "\u001b[31mAttributeError\u001b[39m: `np.NaN` was removed in the NumPy 2.0 release. Use `np.nan` instead."
     ]
    }
   ],
   "source": [
    "# Add empty object column to store `output_value` list of function\n",
    "coe['output_value'] = ''\n",
    "\n",
    "# Apply u.get_transactions_allotment to each row\n",
    "coe.output_value = coe.apply(\n",
    "    lambda x: util.get_transactions_allotment(x, temp_df, transactions_df), axis=1)\n",
    "\n",
    "# Expand `output_value` list to columns\n",
    "coe = util.expand_list_to_columns(coe, 'output_value', {\n",
    "    0: 'txn_overall',\n",
    "    1: 'amt_overall',\n",
    "    2: 'txn_promo',\n",
    "    3: 'amt_promo',\n",
    "    4: 'txn_nonpromo',\n",
    "    5: 'amt_nonpromo',\n",
    "    6: 'recency_promo',\n",
    "    7: 'recency_nonpromo'})\n",
    "\n",
    "# Add remaining required components for RFM score\n",
    "coe['monetary_promo'] = np.round(coe.amt_promo / coe.txn_promo, 2)\n",
    "coe['monetary_nonpromo'] = np.round(coe.amt_nonpromo / coe.txn_nonpromo, 2)\n",
    "\n",
    "coe['frequency_promo'] = np.round(coe.recency_promo / coe.txn_promo, 2)\n",
    "coe['frequency_nonpromo'] = np.round(coe.recency_nonpromo / coe.txn_promo, 2)"
   ]
  }
 ],
 "metadata": {
  "kernelspec": {
   "display_name": "Python 3",
   "language": "python",
   "name": "python3"
  },
  "language_info": {
   "codemirror_mode": {
    "name": "ipython",
    "version": 3
   },
   "file_extension": ".py",
   "mimetype": "text/x-python",
   "name": "python",
   "nbconvert_exporter": "python",
   "pygments_lexer": "ipython3",
   "version": "3.13.5"
  }
 },
 "nbformat": 4,
 "nbformat_minor": 5
}
